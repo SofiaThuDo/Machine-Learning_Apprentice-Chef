{
 "cells": [
  {
   "cell_type": "markdown",
   "metadata": {},
   "source": [
    "# IMPORT DATA"
   ]
  },
  {
   "cell_type": "code",
   "execution_count": 1,
   "metadata": {
    "deletable": false,
    "editable": false
   },
   "outputs": [],
   "source": [
    "# importing all libraries\n",
    "import pandas as pd                                   # data science essentials\n",
    "import matplotlib.pyplot as plt                       # data visualization\n",
    "import seaborn as sns                                 # enhanced data visualization\n",
    "import numpy as np                                    # numpy for math\n",
    "from sklearn.model_selection import train_test_split  # train-test split\n",
    "from sklearn.linear_model import LogisticRegression   # logistic regression\n",
    "import statsmodels.formula.api as smf                 # logistic regression\n",
    "from sklearn.metrics import confusion_matrix          # confusion matrix\n",
    "from sklearn.metrics import roc_auc_score             # auc score\n",
    "from sklearn.neighbors import KNeighborsClassifier    # KNN for classification\n",
    "from sklearn.neighbors import KNeighborsRegressor     # KNN for regression\n",
    "from sklearn.preprocessing import StandardScaler      # standard scaler\n",
    "\n",
    "# CART model packages\n",
    "from sklearn.tree import DecisionTreeClassifier       # classification trees\n",
    "from sklearn.tree import export_graphviz              # exports graphics\n",
    "from six import StringIO                              # saves objects in memory\n",
    "from IPython.display import Image                     # displays on frontend\n",
    "import pydotplus                                      # interprets dot objects\n",
    "\n",
    "# new packages\n",
    "from sklearn.model_selection import RandomizedSearchCV  # hyperparameter tuning\n",
    "from sklearn.metrics import make_scorer                 # customizable scorer\n",
    "from sklearn.ensemble import RandomForestClassifier     # random forest\n",
    "from sklearn.ensemble import GradientBoostingClassifier # gbm\n",
    "\n",
    "# setting pandas print options\n",
    "pd.set_option('display.max_rows', 500)\n",
    "pd.set_option('display.max_columns', 500)\n",
    "pd.set_option('display.width', 1000)\n",
    "\n",
    "\n",
    "# specifying the path and file name\n",
    "file = 'Apprentice_Chef_Dataset.xlsx'\n",
    "\n",
    "\n",
    "# reading the file into Python\n",
    "df = pd.read_excel(io=file)"
   ]
  },
  {
   "cell_type": "markdown",
   "metadata": {},
   "source": [
    "# DEFINED FUNCTION\n"
   ]
  },
  {
   "cell_type": "code",
   "execution_count": 2,
   "metadata": {
    "deletable": false,
    "editable": false
   },
   "outputs": [],
   "source": [
    "#########################\n",
    "# text_split_feature\n",
    "#########################\n",
    "def text_split_feature(col, df, sep=' ', new_col_name='number_of_names'):\n",
    "    \"\"\"\n",
    "Splits values in a string Series (as part of a DataFrame) and sums the number\n",
    "of resulting items. Automatically appends summed column to original DataFrame.\n",
    "\n",
    "PARAMETERS\n",
    "----------\n",
    "col          : column to split\n",
    "df           : DataFrame where column is located\n",
    "sep          : string sequence to split by, default ' '\n",
    "new_col_name : name of new column after summing split, default\n",
    "               'number_of_names'\n",
    "\"\"\"\n",
    "    \n",
    "    df[new_col_name] = 0\n",
    "    \n",
    "    \n",
    "    for index, val in df.iterrows():\n",
    "        df.loc[index, new_col_name] = len(df.loc[index, col].split(sep = ' '))"
   ]
  },
  {
   "cell_type": "code",
   "execution_count": 3,
   "metadata": {
    "deletable": false,
    "editable": false
   },
   "outputs": [],
   "source": [
    "########################################\n",
    "# display_tree\n",
    "########################################\n",
    "def display_tree(tree, feature_df, height = 500, width = 800):\n",
    "    \"\"\"\n",
    "    PARAMETERS\n",
    "    ----------\n",
    "    tree       : fitted tree model object\n",
    "        fitted CART model to visualized\n",
    "    feature_df : DataFrame\n",
    "        DataFrame of explanatory features (used to generate labels)\n",
    "    height     : int, default 500\n",
    "        height in pixels to which to constrain image in html\n",
    "    width      : int, default 800\n",
    "        width in pixels to which to constrain image in html\n",
    "    \"\"\"\n",
    "\n",
    "    # visualizing the tree\n",
    "    dot_data = StringIO()\n",
    "\n",
    "    # exporting tree to graphviz\n",
    "    export_graphviz(decision_tree      = tree,\n",
    "                    out_file           = dot_data,\n",
    "                    filled             = True,\n",
    "                    rounded            = True,\n",
    "                    special_characters = True,\n",
    "                    feature_names      = feature_df.columns)\n",
    "\n",
    "\n",
    "    # declaring a graph object\n",
    "    graph = pydotplus.graph_from_dot_data(dot_data.getvalue())\n",
    "\n",
    "\n",
    "    # creating image\n",
    "    img = Image(graph.create_png(),\n",
    "                height = height,\n",
    "                width  = width)\n",
    "    \n",
    "    return img\n",
    "\n",
    "########################################\n",
    "# plot_feature_importances\n",
    "########################################\n",
    "def plot_feature_importances(model, train, export = False):\n",
    "    \"\"\"\n",
    "    Plots the importance of features from a CART model.\n",
    "    \n",
    "    PARAMETERS\n",
    "    ----------\n",
    "    model  : CART model\n",
    "    train  : explanatory variable training data\n",
    "    export : whether or not to export as a .png image, default False\n",
    "    \"\"\"\n",
    "    \n",
    "    # declaring the number\n",
    "    n_features = x_train.shape[1]\n",
    "    \n",
    "    # setting plot window\n",
    "    fig, ax = plt.subplots(figsize=(12,9))\n",
    "    \n",
    "    plt.barh(range(n_features), model.feature_importances_, align='center')\n",
    "    plt.yticks(pd.np.arange(n_features), train.columns)\n",
    "    plt.xlabel(\"Feature importance\")\n",
    "    plt.ylabel(\"Feature\")\n",
    "    \n",
    "    if export == True:\n",
    "        plt.savefig('Tree_Leaf_50_Feature_Importance.png')\n"
   ]
  },
  {
   "cell_type": "markdown",
   "metadata": {},
   "source": [
    "# Feature engineer\n"
   ]
  },
  {
   "cell_type": "markdown",
   "metadata": {},
   "source": [
    "## Creat 0-1 variables"
   ]
  },
  {
   "cell_type": "code",
   "execution_count": 4,
   "metadata": {
    "deletable": false,
    "editable": false
   },
   "outputs": [
    {
     "data": {
      "text/html": [
       "<div>\n",
       "<style scoped>\n",
       "    .dataframe tbody tr th:only-of-type {\n",
       "        vertical-align: middle;\n",
       "    }\n",
       "\n",
       "    .dataframe tbody tr th {\n",
       "        vertical-align: top;\n",
       "    }\n",
       "\n",
       "    .dataframe thead th {\n",
       "        text-align: right;\n",
       "    }\n",
       "</style>\n",
       "<table border=\"1\" class=\"dataframe\">\n",
       "  <thead>\n",
       "    <tr style=\"text-align: right;\">\n",
       "      <th></th>\n",
       "      <th>HAS_PHOTOS</th>\n",
       "      <th>HAS_CANCEL_BEFORE_NOON</th>\n",
       "      <th>HAS_CANCEL_AFTER_NOON</th>\n",
       "      <th>HAS_CLASS</th>\n",
       "      <th>HAS_WEEKLY_PLAN</th>\n",
       "      <th>HAS_EARLY_DELIVERY</th>\n",
       "      <th>HAS_LATE_DELIVERY</th>\n",
       "    </tr>\n",
       "  </thead>\n",
       "  <tbody>\n",
       "    <tr>\n",
       "      <th>0</th>\n",
       "      <td>0</td>\n",
       "      <td>1</td>\n",
       "      <td>1</td>\n",
       "      <td>0</td>\n",
       "      <td>0</td>\n",
       "      <td>0</td>\n",
       "      <td>1</td>\n",
       "    </tr>\n",
       "    <tr>\n",
       "      <th>1</th>\n",
       "      <td>1</td>\n",
       "      <td>0</td>\n",
       "      <td>0</td>\n",
       "      <td>0</td>\n",
       "      <td>1</td>\n",
       "      <td>0</td>\n",
       "      <td>1</td>\n",
       "    </tr>\n",
       "    <tr>\n",
       "      <th>2</th>\n",
       "      <td>0</td>\n",
       "      <td>1</td>\n",
       "      <td>0</td>\n",
       "      <td>0</td>\n",
       "      <td>1</td>\n",
       "      <td>0</td>\n",
       "      <td>1</td>\n",
       "    </tr>\n",
       "    <tr>\n",
       "      <th>3</th>\n",
       "      <td>0</td>\n",
       "      <td>1</td>\n",
       "      <td>0</td>\n",
       "      <td>0</td>\n",
       "      <td>1</td>\n",
       "      <td>0</td>\n",
       "      <td>1</td>\n",
       "    </tr>\n",
       "    <tr>\n",
       "      <th>4</th>\n",
       "      <td>1</td>\n",
       "      <td>0</td>\n",
       "      <td>0</td>\n",
       "      <td>1</td>\n",
       "      <td>1</td>\n",
       "      <td>0</td>\n",
       "      <td>1</td>\n",
       "    </tr>\n",
       "  </tbody>\n",
       "</table>\n",
       "</div>"
      ],
      "text/plain": [
       "   HAS_PHOTOS  HAS_CANCEL_BEFORE_NOON  HAS_CANCEL_AFTER_NOON  HAS_CLASS  HAS_WEEKLY_PLAN  HAS_EARLY_DELIVERY  HAS_LATE_DELIVERY\n",
       "0           0                       1                      1          0                0                   0                  1\n",
       "1           1                       0                      0          0                1                   0                  1\n",
       "2           0                       1                      0          0                1                   0                  1\n",
       "3           0                       1                      0          0                1                   0                  1\n",
       "4           1                       0                      0          1                1                   0                  1"
      ]
     },
     "execution_count": 4,
     "metadata": {},
     "output_type": "execute_result"
    }
   ],
   "source": [
    "# dummy variable for having feature\n",
    "df['HAS_PHOTOS']               = 0\n",
    "df['HAS_CANCEL_BEFORE_NOON']   = 0\n",
    "df['HAS_CANCEL_AFTER_NOON']    = 0\n",
    "df['HAS_CLASS']                = 0\n",
    "df['HAS_WEEKLY_PLAN']          = 0\n",
    "df['HAS_EARLY_DELIVERY']       = 0\n",
    "df['HAS_LATE_DELIVERY']        = 0\n",
    "\n",
    "# iterating over each original column to\n",
    "# change values in the new feature columns\n",
    "for index, value in df.iterrows():\n",
    "    \n",
    "    # TOTAL_PHOTOS_VIEWED\n",
    "    if df.loc[index, 'TOTAL_PHOTOS_VIEWED'] > 0:\n",
    "        df.loc[index, 'HAS_PHOTOS'] = 1\n",
    "        \n",
    "    # TOTAL CANCELLED ORDERS BEFORE NOON\n",
    "    if df.loc[index, 'CANCELLATIONS_BEFORE_NOON'] > 0:\n",
    "        df.loc[index, 'HAS_CANCEL_BEFORE_NOON'] = 1\n",
    "        \n",
    "    # TOTAL CANCELLED ORDERS AFTER NOON   \n",
    "    if df.loc[index, 'CANCELLATIONS_AFTER_NOON'] > 0:\n",
    "        df.loc[index, 'HAS_CANCEL_AFTER_NOON'] = 1\n",
    "    \n",
    "    # TOTAL MASTER CLASS   \n",
    "    if df.loc[index, 'MASTER_CLASSES_ATTENDED'] > 0:\n",
    "        df.loc[index, 'HAS_CLASS'] = 1\n",
    "        \n",
    "    # TOTAL WEEKLY PLAN   \n",
    "    if df.loc[index, 'WEEKLY_PLAN'] > 0:\n",
    "        df.loc[index, 'HAS_WEEKLY_PLAN'] = 1\n",
    "        \n",
    "    # TOTAL EARLY DELIVERY  \n",
    "    if df.loc[index, 'EARLY_DELIVERIES'] > 0:\n",
    "        df.loc[index, 'HAS_EARLY_DELIVERY'] = 1   \n",
    "        \n",
    "    # TOTAL LATE DELIVERY  \n",
    "    if df.loc[index, 'LATE_DELIVERIES'] > 0:\n",
    "        df.loc[index, 'HAS_LATE_DELIVERY'] = 1 \n",
    "        \n",
    "df[['HAS_PHOTOS', 'HAS_CANCEL_BEFORE_NOON', 'HAS_CANCEL_AFTER_NOON',\\\n",
    "    'HAS_CLASS', 'HAS_WEEKLY_PLAN','HAS_EARLY_DELIVERY','HAS_LATE_DELIVERY' ]].head()"
   ]
  },
  {
   "cell_type": "markdown",
   "metadata": {},
   "source": [
    "## Name variable"
   ]
  },
  {
   "cell_type": "code",
   "execution_count": 5,
   "metadata": {
    "deletable": false,
    "editable": false
   },
   "outputs": [
    {
     "data": {
      "text/plain": [
       "0       1\n",
       "1       2\n",
       "2       2\n",
       "3       2\n",
       "4       2\n",
       "       ..\n",
       "1941    2\n",
       "1942    2\n",
       "1943    2\n",
       "1944    1\n",
       "1945    2\n",
       "Name: number_of_names, Length: 1946, dtype: int64"
      ]
     },
     "execution_count": 5,
     "metadata": {},
     "output_type": "execute_result"
    }
   ],
   "source": [
    "# calling text_split_feature\n",
    "text_split_feature('NAME', df, sep='')\n",
    "\n",
    "\n",
    "# checking results\n",
    "df['number_of_names']"
   ]
  },
  {
   "cell_type": "markdown",
   "metadata": {},
   "source": [
    "## Email variable"
   ]
  },
  {
   "cell_type": "code",
   "execution_count": 6,
   "metadata": {
    "deletable": false,
    "editable": false
   },
   "outputs": [],
   "source": [
    "# STEP 1: splitting emails\n",
    "\n",
    "# placeholder list\n",
    "placeholder_lst = []\n",
    "\n",
    "# looping over each email address\n",
    "for index, col in df.iterrows():\n",
    "    \n",
    "    # splitting email domain at '@'\n",
    "    split_email = df.loc[index, 'EMAIL'].split(sep = '@')\n",
    "    \n",
    "    # appending placeholder_lst with the results\n",
    "    placeholder_lst.append(split_email)\n",
    "    \n",
    "\n",
    "# converting placeholder_lst into a DataFrame \n",
    "email_df = pd.DataFrame(placeholder_lst)"
   ]
  },
  {
   "cell_type": "code",
   "execution_count": 7,
   "metadata": {
    "deletable": false,
    "editable": false
   },
   "outputs": [
    {
     "data": {
      "text/plain": [
       "gmail.com           303\n",
       "protonmail.com      284\n",
       "yahoo.com           274\n",
       "msn.com              72\n",
       "aol.com              69\n",
       "passport.com         64\n",
       "hotmail.com          63\n",
       "live.com             62\n",
       "me.com               59\n",
       "amex.com             30\n",
       "jnj.com              28\n",
       "merck.com            28\n",
       "cocacola.com         28\n",
       "mcdonalds.com        28\n",
       "apple.com            27\n",
       "nike.com             27\n",
       "ibm.com              26\n",
       "dupont.com           26\n",
       "ge.org               26\n",
       "chevron.com          25\n",
       "microsoft.com        25\n",
       "exxon.com            24\n",
       "travelers.com        24\n",
       "unitedhealth.com     24\n",
       "boeing.com           23\n",
       "verizon.com          22\n",
       "pg.com               22\n",
       "mmm.com              22\n",
       "caterpillar.com      22\n",
       "disney.com           21\n",
       "walmart.com          21\n",
       "visa.com             20\n",
       "pfizer.com           20\n",
       "jpmorgan.com         19\n",
       "unitedtech.com       18\n",
       "goldmansacs.com      18\n",
       "cisco.com            18\n",
       "homedepot.com        17\n",
       "intel.com            17\n",
       "Name: email_domain, dtype: int64"
      ]
     },
     "execution_count": 7,
     "metadata": {},
     "output_type": "execute_result"
    }
   ],
   "source": [
    "# STEP 2: concatenating with original DataFrame\n",
    "\n",
    "# renaming column to concatenate\n",
    "email_df.columns = ['user_name','email_domain']\n",
    "\n",
    "\n",
    "# concatenating personal_email_domain with df DataFrame\n",
    "df = pd.concat([df, email_df['email_domain']],\n",
    "                        axis = 1)\n",
    "\n",
    "\n",
    "# printing value counts of email_domain\n",
    "df.loc[: ,'email_domain'].value_counts()"
   ]
  },
  {
   "cell_type": "code",
   "execution_count": 8,
   "metadata": {
    "deletable": false,
    "editable": false
   },
   "outputs": [
    {
     "data": {
      "text/plain": [
       "personal        861\n",
       "professional    696\n",
       "junk            389\n",
       "Name: domain_group, dtype: int64"
      ]
     },
     "execution_count": 8,
     "metadata": {},
     "output_type": "execute_result"
    }
   ],
   "source": [
    "# email domain types (based on the case)\n",
    "personal            = [     '@gmail.com', '@protonmail.com','@yahoo.com']\n",
    "\n",
    "junk                = [     '@msn.com'          ,          \n",
    "                            '@aol.com'          ,          \n",
    "                            '@passport.com'     ,         \n",
    "                            '@hotmail.com'      ,         \n",
    "                            '@live.com'         ,         \n",
    "                            '@me.com']\n",
    "\n",
    "professional  =   [         '@amex.com',             \n",
    "                            '@merck.com'       ,   \n",
    "                            '@cocacola.com'    ,       \n",
    "                            '@jnj.com'         ,     \n",
    "                            '@mcdonalds.com'   ,     \n",
    "                            '@nike.com'        ,     \n",
    "                            '@apple.com'       ,     \n",
    "                            '@dupont.com'      ,     \n",
    "                            '@ge.org'          ,     \n",
    "                            '@ibm.com'         ,    \n",
    "                            '@chevron.com'     ,     \n",
    "                            '@microsoft.com'   ,    \n",
    "                            '@unitedhealth.com',   \n",
    "                            '@travelers.com'   ,    \n",
    "                            '@exxon.com'       ,     \n",
    "                            '@boeing.com'      ,      \n",
    "                            '@verizon.com'     ,      \n",
    "                            '@mmm.com'         ,       \n",
    "                            '@caterpillar.com' ,     \n",
    "                            '@pg.com'          ,       \n",
    "                            '@walmart.com'     ,       \n",
    "                            '@disney.com'      ,        \n",
    "                            '@visa.com'        ,       \n",
    "                            '@pfizer.com'      ,       \n",
    "                            '@jpmorgan.com'    ,      \n",
    "                            '@goldmansacs.com' ,      \n",
    "                            '@unitedtech.com'  ,      \n",
    "                            '@cisco.com'       ,     \n",
    "                            '@intel.com'       ,       \n",
    "                            '@homedepot.com'   ]\n",
    "\n",
    "\n",
    "# placeholder list\n",
    "placeholder_lst = []\n",
    "\n",
    "\n",
    "# looping to group observations by domain type\n",
    "for domain in df['email_domain']:\n",
    "        if '@' + domain in personal:\n",
    "            placeholder_lst.append('personal')\n",
    "                  \n",
    "        elif '@' + domain in junk:\n",
    "            placeholder_lst.append('junk')\n",
    "        \n",
    "        elif '@' + domain in professional:\n",
    "            placeholder_lst.append('professional')\n",
    "            \n",
    "        else:\n",
    "            print('Unknown')\n",
    "\n",
    "\n",
    "# concatenating with original DataFrame\n",
    "df['domain_group'] = pd.Series(placeholder_lst)\n",
    "\n",
    "\n",
    "# checking results\n",
    "df['domain_group'].value_counts()"
   ]
  },
  {
   "cell_type": "code",
   "execution_count": 9,
   "metadata": {
    "deletable": false,
    "editable": false
   },
   "outputs": [],
   "source": [
    "#Prepare the data (code it into number)\n",
    "# one hot encoding categorical variables\n",
    "one_hot_domain       = pd.get_dummies(df['domain_group'])\n",
    "\n",
    "# dropping categorical variables after they've been encoded\n",
    "df = df.drop('domain_group', axis = 1)\n",
    "\n",
    "# joining codings together- appending new data into the dataset\n",
    "df = df.join([one_hot_domain])\n",
    "\n",
    "\n",
    "# saving new columns\n",
    "new_columns = df.columns"
   ]
  },
  {
   "cell_type": "markdown",
   "metadata": {},
   "source": [
    "## Modified variables"
   ]
  },
  {
   "cell_type": "code",
   "execution_count": 10,
   "metadata": {
    "deletable": false,
    "editable": false
   },
   "outputs": [],
   "source": [
    "# creating a column for avg price meal\n",
    "df['AVG_PRICE_PER_ORDER'] = df['REVENUE']/df['TOTAL_MEALS_ORDERED']"
   ]
  },
  {
   "cell_type": "code",
   "execution_count": 11,
   "metadata": {
    "deletable": false,
    "editable": false
   },
   "outputs": [
    {
     "data": {
      "text/plain": [
       "33.55654761904762"
      ]
     },
     "execution_count": 11,
     "metadata": {},
     "output_type": "execute_result"
    }
   ],
   "source": [
    "df['AVG_PRICE_PER_ORDER'].median()"
   ]
  },
  {
   "cell_type": "code",
   "execution_count": 12,
   "metadata": {
    "deletable": false,
    "editable": false
   },
   "outputs": [
    {
     "data": {
      "text/plain": [
       "5.0"
      ]
     },
     "execution_count": 12,
     "metadata": {},
     "output_type": "execute_result"
    }
   ],
   "source": [
    "df['UNIQUE_MEALS_PURCH'].median()"
   ]
  },
  {
   "cell_type": "code",
   "execution_count": 13,
   "metadata": {
    "deletable": false,
    "editable": false
   },
   "outputs": [],
   "source": [
    "#Create new columns\n",
    "df['median_rater']        = 0\n",
    "df['unique_preferences']  = 0\n",
    "\n",
    "for index, val in df.iterrows():\n",
    "\n",
    "\n",
    "    if df.loc[index, 'MEDIAN_MEAL_RATING'] <= 3 and\\\n",
    "    df.loc[index, 'AVG_PRICE_PER_ORDER'] > 34:\n",
    "        df.loc[index, 'median_rater'] = 1\n",
    "        \n",
    "    if df.loc[index, 'UNIQUE_MEALS_PURCH'] > 5 and \\\n",
    "    df.loc[index, 'TASTES_AND_PREFERENCES'] == 1:\n",
    "        df.loc[index, 'unique_preferences'] = 1\n",
    "        "
   ]
  },
  {
   "cell_type": "markdown",
   "metadata": {},
   "source": [
    "# PREPARE DATA FOR MODELLING"
   ]
  },
  {
   "cell_type": "code",
   "execution_count": 14,
   "metadata": {
    "deletable": false,
    "editable": false
   },
   "outputs": [],
   "source": [
    "#DROP OBJECT VARIABLE\n",
    "df = df.drop('NAME', axis = 1)\n",
    "df = df.drop('EMAIL', axis = 1)\n",
    "df = df.drop('FIRST_NAME', axis = 1)\n",
    "df = df.drop('FAMILY_NAME', axis =1)\n",
    "df = df.drop('email_domain', axis =1)"
   ]
  },
  {
   "cell_type": "code",
   "execution_count": 15,
   "metadata": {
    "deletable": false,
    "editable": false
   },
   "outputs": [],
   "source": [
    "# declaring explanatory variables\n",
    "df_data = df.drop(['CROSS_SELL_SUCCESS'], axis = 1)\n",
    "\n",
    "# declaring response variable\n",
    "df_target = df.loc[ : , 'CROSS_SELL_SUCCESS']\n",
    "\n",
    "# train-test split with stratification\n",
    "x_train, x_test, y_train, y_test = train_test_split(\n",
    "            df_data,\n",
    "            df_target,\n",
    "            test_size    = 0.25,\n",
    "            random_state = 219,\n",
    "            stratify     = df_target)\n",
    "\n",
    "\n",
    "# merging training data for statsmodels\n",
    "df_train = pd.concat([x_train, y_train], axis = 1)"
   ]
  },
  {
   "cell_type": "code",
   "execution_count": 16,
   "metadata": {
    "deletable": false,
    "editable": false
   },
   "outputs": [
    {
     "name": "stdout",
     "output_type": "stream",
     "text": [
      " REVENUE + \n",
      " TOTAL_MEALS_ORDERED + \n",
      " UNIQUE_MEALS_PURCH + \n",
      " CONTACTS_W_CUSTOMER_SERVICE + \n",
      " PRODUCT_CATEGORIES_VIEWED + \n",
      " AVG_TIME_PER_SITE_VISIT + \n",
      " MOBILE_NUMBER + \n",
      " CANCELLATIONS_BEFORE_NOON + \n",
      " CANCELLATIONS_AFTER_NOON + \n",
      " TASTES_AND_PREFERENCES + \n",
      " PC_LOGINS + \n",
      " MOBILE_LOGINS + \n",
      " WEEKLY_PLAN + \n",
      " EARLY_DELIVERIES + \n",
      " LATE_DELIVERIES + \n",
      " PACKAGE_LOCKER + \n",
      " REFRIGERATED_LOCKER + \n",
      " AVG_PREP_VID_TIME + \n",
      " LARGEST_ORDER_SIZE + \n",
      " MASTER_CLASSES_ATTENDED + \n",
      " MEDIAN_MEAL_RATING + \n",
      " AVG_CLICKS_PER_VISIT + \n",
      " TOTAL_PHOTOS_VIEWED + \n",
      " HAS_PHOTOS + \n",
      " HAS_CANCEL_BEFORE_NOON + \n",
      " HAS_CANCEL_AFTER_NOON + \n",
      " HAS_CLASS + \n",
      " HAS_WEEKLY_PLAN + \n",
      " HAS_EARLY_DELIVERY + \n",
      " HAS_LATE_DELIVERY + \n",
      " number_of_names + \n",
      " junk + \n",
      " personal + \n",
      " professional + \n",
      " AVG_PRICE_PER_ORDER + \n",
      " median_rater + \n",
      " unique_preferences + \n"
     ]
    }
   ],
   "source": [
    "for val in df_data:\n",
    "    print(f\" {val} + \")"
   ]
  },
  {
   "cell_type": "code",
   "execution_count": 17,
   "metadata": {
    "deletable": false,
    "editable": false
   },
   "outputs": [
    {
     "name": "stdout",
     "output_type": "stream",
     "text": [
      "Optimization terminated successfully.\n",
      "         Current function value: 0.539110\n",
      "         Iterations 6\n"
     ]
    },
    {
     "data": {
      "text/html": [
       "<table class=\"simpletable\">\n",
       "<caption>Logit Regression Results</caption>\n",
       "<tr>\n",
       "  <th>Dep. Variable:</th>   <td>CROSS_SELL_SUCCESS</td> <th>  No. Observations:  </th>  <td>  1459</td>  \n",
       "</tr>\n",
       "<tr>\n",
       "  <th>Model:</th>                  <td>Logit</td>       <th>  Df Residuals:      </th>  <td>  1447</td>  \n",
       "</tr>\n",
       "<tr>\n",
       "  <th>Method:</th>                  <td>MLE</td>        <th>  Df Model:          </th>  <td>    11</td>  \n",
       "</tr>\n",
       "<tr>\n",
       "  <th>Date:</th>             <td>Wed, 27 Jan 2021</td>  <th>  Pseudo R-squ.:     </th>  <td>0.1415</td>  \n",
       "</tr>\n",
       "<tr>\n",
       "  <th>Time:</th>                 <td>00:15:43</td>      <th>  Log-Likelihood:    </th> <td> -786.56</td> \n",
       "</tr>\n",
       "<tr>\n",
       "  <th>converged:</th>              <td>True</td>        <th>  LL-Null:           </th> <td> -916.19</td> \n",
       "</tr>\n",
       "<tr>\n",
       "  <th>Covariance Type:</th>      <td>nonrobust</td>     <th>  LLR p-value:       </th> <td>3.199e-49</td>\n",
       "</tr>\n",
       "</table>\n",
       "<table class=\"simpletable\">\n",
       "<tr>\n",
       "               <td></td>                  <th>coef</th>     <th>std err</th>      <th>z</th>      <th>P>|z|</th>  <th>[0.025</th>    <th>0.975]</th>  \n",
       "</tr>\n",
       "<tr>\n",
       "  <th>Intercept</th>                   <td>   -3.0403</td> <td>    0.675</td> <td>   -4.501</td> <td> 0.000</td> <td>   -4.364</td> <td>   -1.717</td>\n",
       "</tr>\n",
       "<tr>\n",
       "  <th>CONTACTS_W_CUSTOMER_SERVICE</th> <td>    0.0653</td> <td>    0.028</td> <td>    2.341</td> <td> 0.019</td> <td>    0.011</td> <td>    0.120</td>\n",
       "</tr>\n",
       "<tr>\n",
       "  <th>MOBILE_NUMBER</th>               <td>    0.9405</td> <td>    0.178</td> <td>    5.271</td> <td> 0.000</td> <td>    0.591</td> <td>    1.290</td>\n",
       "</tr>\n",
       "<tr>\n",
       "  <th>CANCELLATIONS_BEFORE_NOON</th>   <td>    0.2830</td> <td>    0.047</td> <td>    6.065</td> <td> 0.000</td> <td>    0.192</td> <td>    0.374</td>\n",
       "</tr>\n",
       "<tr>\n",
       "  <th>PC_LOGINS</th>                   <td>    0.2252</td> <td>    0.107</td> <td>    2.097</td> <td> 0.036</td> <td>    0.015</td> <td>    0.436</td>\n",
       "</tr>\n",
       "<tr>\n",
       "  <th>EARLY_DELIVERIES</th>            <td>    0.0579</td> <td>    0.028</td> <td>    2.091</td> <td> 0.037</td> <td>    0.004</td> <td>    0.112</td>\n",
       "</tr>\n",
       "<tr>\n",
       "  <th>REFRIGERATED_LOCKER</th>         <td>    0.5025</td> <td>    0.210</td> <td>    2.396</td> <td> 0.017</td> <td>    0.091</td> <td>    0.914</td>\n",
       "</tr>\n",
       "<tr>\n",
       "  <th>number_of_names</th>             <td>    0.5525</td> <td>    0.094</td> <td>    5.861</td> <td> 0.000</td> <td>    0.368</td> <td>    0.737</td>\n",
       "</tr>\n",
       "<tr>\n",
       "  <th>junk</th>                        <td>   -1.3262</td> <td>    0.158</td> <td>   -8.407</td> <td> 0.000</td> <td>   -1.635</td> <td>   -1.017</td>\n",
       "</tr>\n",
       "<tr>\n",
       "  <th>professional</th>                <td>    0.5979</td> <td>    0.145</td> <td>    4.126</td> <td> 0.000</td> <td>    0.314</td> <td>    0.882</td>\n",
       "</tr>\n",
       "<tr>\n",
       "  <th>median_rater</th>                <td>   -0.4232</td> <td>    0.127</td> <td>   -3.333</td> <td> 0.001</td> <td>   -0.672</td> <td>   -0.174</td>\n",
       "</tr>\n",
       "<tr>\n",
       "  <th>unique_preferences</th>          <td>    0.3445</td> <td>    0.138</td> <td>    2.491</td> <td> 0.013</td> <td>    0.073</td> <td>    0.616</td>\n",
       "</tr>\n",
       "</table>"
      ],
      "text/plain": [
       "<class 'statsmodels.iolib.summary.Summary'>\n",
       "\"\"\"\n",
       "                           Logit Regression Results                           \n",
       "==============================================================================\n",
       "Dep. Variable:     CROSS_SELL_SUCCESS   No. Observations:                 1459\n",
       "Model:                          Logit   Df Residuals:                     1447\n",
       "Method:                           MLE   Df Model:                           11\n",
       "Date:                Wed, 27 Jan 2021   Pseudo R-squ.:                  0.1415\n",
       "Time:                        00:15:43   Log-Likelihood:                -786.56\n",
       "converged:                       True   LL-Null:                       -916.19\n",
       "Covariance Type:            nonrobust   LLR p-value:                 3.199e-49\n",
       "===============================================================================================\n",
       "                                  coef    std err          z      P>|z|      [0.025      0.975]\n",
       "-----------------------------------------------------------------------------------------------\n",
       "Intercept                      -3.0403      0.675     -4.501      0.000      -4.364      -1.717\n",
       "CONTACTS_W_CUSTOMER_SERVICE     0.0653      0.028      2.341      0.019       0.011       0.120\n",
       "MOBILE_NUMBER                   0.9405      0.178      5.271      0.000       0.591       1.290\n",
       "CANCELLATIONS_BEFORE_NOON       0.2830      0.047      6.065      0.000       0.192       0.374\n",
       "PC_LOGINS                       0.2252      0.107      2.097      0.036       0.015       0.436\n",
       "EARLY_DELIVERIES                0.0579      0.028      2.091      0.037       0.004       0.112\n",
       "REFRIGERATED_LOCKER             0.5025      0.210      2.396      0.017       0.091       0.914\n",
       "number_of_names                 0.5525      0.094      5.861      0.000       0.368       0.737\n",
       "junk                           -1.3262      0.158     -8.407      0.000      -1.635      -1.017\n",
       "professional                    0.5979      0.145      4.126      0.000       0.314       0.882\n",
       "median_rater                   -0.4232      0.127     -3.333      0.001      -0.672      -0.174\n",
       "unique_preferences              0.3445      0.138      2.491      0.013       0.073       0.616\n",
       "===============================================================================================\n",
       "\"\"\""
      ]
     },
     "execution_count": 17,
     "metadata": {},
     "output_type": "execute_result"
    }
   ],
   "source": [
    "# instantiating a logistic regression model object\n",
    "logistic_full = smf.logit(formula = \"\"\" CROSS_SELL_SUCCESS ~ \n",
    "                                                             CONTACTS_W_CUSTOMER_SERVICE + \n",
    "                                                             MOBILE_NUMBER + \n",
    "                                                             CANCELLATIONS_BEFORE_NOON +  \n",
    "                                                             PC_LOGINS+\n",
    "                                                             EARLY_DELIVERIES +   \n",
    "                                                             REFRIGERATED_LOCKER +  \n",
    "                                                             number_of_names + \n",
    "                                                             junk +  \n",
    "                                                             professional + \n",
    "                                                             median_rater +\n",
    "                                                             unique_preferences\n",
    "                                                             \"\"\",\n",
    "                        data    = df_train)\n",
    "\n",
    "\n",
    "# fitting the model object\n",
    "results_full = logistic_full.fit()\n",
    "\n",
    "\n",
    "# checking the results SUMMARY\n",
    "results_full.summary()"
   ]
  },
  {
   "cell_type": "code",
   "execution_count": 18,
   "metadata": {
    "deletable": false,
    "editable": false
   },
   "outputs": [
    {
     "data": {
      "text/plain": [
       "CROSS_SELL_SUCCESS             1.00\n",
       "professional                   0.19\n",
       "number_of_names                0.16\n",
       "CANCELLATIONS_BEFORE_NOON      0.16\n",
       "HAS_CANCEL_BEFORE_NOON         0.14\n",
       "MOBILE_NUMBER                  0.10\n",
       "TASTES_AND_PREFERENCES         0.08\n",
       "REFRIGERATED_LOCKER            0.07\n",
       "unique_preferences             0.06\n",
       "HAS_CLASS                      0.05\n",
       "personal                       0.04\n",
       "CONTACTS_W_CUSTOMER_SERVICE    0.04\n",
       "PC_LOGINS                      0.04\n",
       "PACKAGE_LOCKER                 0.04\n",
       "MASTER_CLASSES_ATTENDED        0.04\n",
       "MEDIAN_MEAL_RATING             0.03\n",
       "AVG_PREP_VID_TIME              0.03\n",
       "EARLY_DELIVERIES               0.02\n",
       "LARGEST_ORDER_SIZE             0.02\n",
       "AVG_TIME_PER_SITE_VISIT        0.01\n",
       "TOTAL_PHOTOS_VIEWED            0.01\n",
       "HAS_PHOTOS                     0.01\n",
       "LATE_DELIVERIES                0.01\n",
       "TOTAL_MEALS_ORDERED            0.01\n",
       "REVENUE                        0.00\n",
       "UNIQUE_MEALS_PURCH             0.00\n",
       "PRODUCT_CATEGORIES_VIEWED      0.00\n",
       "HAS_LATE_DELIVERY              0.00\n",
       "WEEKLY_PLAN                   -0.01\n",
       "HAS_EARLY_DELIVERY            -0.01\n",
       "AVG_PRICE_PER_ORDER           -0.02\n",
       "HAS_WEEKLY_PLAN               -0.02\n",
       "AVG_CLICKS_PER_VISIT          -0.04\n",
       "CANCELLATIONS_AFTER_NOON      -0.05\n",
       "HAS_CANCEL_AFTER_NOON         -0.05\n",
       "MOBILE_LOGINS                 -0.05\n",
       "median_rater                  -0.07\n",
       "junk                          -0.28\n",
       "Name: CROSS_SELL_SUCCESS, dtype: float64"
      ]
     },
     "execution_count": 18,
     "metadata": {},
     "output_type": "execute_result"
    }
   ],
   "source": [
    "#Checking correlation with all x-variables\n",
    "df_corr = df.corr().round(2)\n",
    "\n",
    "df_corr['CROSS_SELL_SUCCESS'].sort_values(ascending = False)"
   ]
  },
  {
   "cell_type": "code",
   "execution_count": 19,
   "metadata": {},
   "outputs": [],
   "source": [
    "#create the dictionary \n",
    "\n",
    "feature_dict = {\n",
    " \n",
    " # significant variables only\n",
    " 'logit_sig'    : [ 'CONTACTS_W_CUSTOMER_SERVICE' ,\n",
    "                     'MOBILE_NUMBER' ,\n",
    "                     'CANCELLATIONS_BEFORE_NOON' ,  \n",
    "                     'REFRIGERATED_LOCKER' ,\n",
    "                     'number_of_names' , \n",
    "                     'junk' ,\n",
    "                     'professional' , \n",
    "                     'median_rater' ,\n",
    "                     'unique_preferences'],\n",
    "    \n",
    "    \n",
    "    \n",
    "'logit_sig_2'   : [ 'CONTACTS_W_CUSTOMER_SERVICE' ,\n",
    "                     'MOBILE_NUMBER' ,\n",
    "                     'CANCELLATIONS_BEFORE_NOON' ,  \n",
    "                     'REFRIGERATED_LOCKER' ,\n",
    "                     'number_of_names' , \n",
    "                     'junk' ,\n",
    "                     'professional' , \n",
    "                     'median_rater' ,\n",
    "                     'unique_preferences',\n",
    "                     'CANCELLATIONS_AFTER_NOON',\n",
    "                     'MOBILE_LOGINS'],\n",
    "    \n",
    "'tree'         :  [  'CANCELLATIONS_BEFORE_NOON' ,  \n",
    "                     'number_of_names' , \n",
    "                     'junk' ,\n",
    "                     'professional' , \n",
    "                     'CANCELLATIONS_AFTER_NOON'],\n",
    "} "
   ]
  },
  {
   "cell_type": "markdown",
   "metadata": {},
   "source": [
    "# APPLY MODEL"
   ]
  },
  {
   "cell_type": "markdown",
   "metadata": {},
   "source": [
    "## Logistic Regression "
   ]
  },
  {
   "cell_type": "markdown",
   "metadata": {},
   "source": [
    "### Prepare data with logit_sig_2"
   ]
  },
  {
   "cell_type": "code",
   "execution_count": 20,
   "metadata": {
    "deletable": false,
    "editable": false
   },
   "outputs": [],
   "source": [
    "#Set df_data and df_target for logit_sig_2\n",
    "df_data   =  df.loc[ : , feature_dict['logit_sig_2']]\n",
    "df_target =  df.loc[ : , 'CROSS_SELL_SUCCESS']\n",
    "\n",
    "# train/test split\n",
    "x_train, x_test, y_train, y_test = train_test_split(\n",
    "                                                    df_data,\n",
    "                                                    df_target,\n",
    "                                                    random_state = 219,\n",
    "                                                    test_size    = 0.25,\n",
    "                                                    stratify     = df_target)"
   ]
  },
  {
   "cell_type": "markdown",
   "metadata": {},
   "source": [
    "### Hyperparameter tuning"
   ]
  },
  {
   "cell_type": "code",
   "execution_count": null,
   "metadata": {
    "deletable": false,
    "editable": false,
    "run_control": {
     "frozen": true
    }
   },
   "outputs": [],
   "source": [
    "########################################\n",
    "# RandomizedSearchCV\n",
    "########################################\n",
    "\n",
    "# declaring a hyperparameter space\n",
    "C_space          = pd.np.arange(0.1, 5.0, 0.1)\n",
    "warm_start_space = [True, False]\n",
    "solver_space     = ['newton-cg', 'sag', 'lbfgs']\n",
    "\n",
    "\n",
    "# creating a hyperparameter grid\n",
    "param_grid = {'C'          : C_space,\n",
    "              'warm_start' : warm_start_space,\n",
    "              'solver'     : solver_space}\n",
    "\n",
    "\n",
    "# INSTANTIATING the model object without hyperparameters\n",
    "lr_tuned = LogisticRegression(random_state = 219,\n",
    "                              max_iter     = 4000)\n",
    "\n",
    "\n",
    "# GridSearchCV object\n",
    "lr_tuned_cv = RandomizedSearchCV(estimator           = lr_tuned,   # the model object\n",
    "                                 param_distributions = param_grid, # parameters to tune\n",
    "                                 cv                  = 3,          # how many folds in cross-validation\n",
    "                                 n_iter              = 250,        # number of combinations of hyperparameters to try\n",
    "                                 random_state        = 219,        # starting point for random sequence\n",
    "                                 scoring = make_scorer(\n",
    "                                           roc_auc_score,\n",
    "                                           needs_threshold = False)) # scoring criteria (AUC)\n",
    "\n",
    "\n",
    "# FITTING to the FULL DATASET (due to cross-validation)\n",
    "lr_tuned_cv.fit(df_data, df_target)\n",
    "\n",
    "\n",
    "# PREDICT step is not needed\n",
    "\n",
    "\n",
    "# printing the optimal parameters and best score\n",
    "print(\"Tuned Parameters  :\", lr_tuned_cv.best_params_)\n",
    "print(\"Tuned CV AUC      :\", lr_tuned_cv.best_score_.round(4))"
   ]
  },
  {
   "cell_type": "code",
   "execution_count": null,
   "metadata": {
    "deletable": false,
    "editable": false,
    "run_control": {
     "frozen": true
    }
   },
   "outputs": [],
   "source": [
    "lr_tuned_cv.best_estimator_"
   ]
  },
  {
   "cell_type": "markdown",
   "metadata": {},
   "source": [
    "### Apply logistic regression"
   ]
  },
  {
   "cell_type": "code",
   "execution_count": 21,
   "metadata": {
    "deletable": false,
    "editable": false
   },
   "outputs": [
    {
     "name": "stdout",
     "output_type": "stream",
     "text": [
      "Training ACCURACY: 0.7382\n",
      "Testing  ACCURACY: 0.7515\n",
      "AUC Score        : 0.6664\n"
     ]
    }
   ],
   "source": [
    "# INSTANTIATING a logistic regression model with tuned values\n",
    "lr_tuned= LogisticRegression(C=3.9000000000000004, max_iter=4000, random_state=219,\n",
    "                   solver='newton-cg', warm_start=True)\n",
    "\n",
    "\n",
    "# FIT step is not needed\n",
    "lr_tuned_fit = lr_tuned.fit(x_train, y_train)\n",
    "\n",
    "# PREDICTING based on the testing set\n",
    "lr_tuned_pred = lr_tuned.predict(x_test)\n",
    "\n",
    "\n",
    "# SCORING the results\n",
    "print('Training ACCURACY:', lr_tuned_fit.score(x_train, y_train).round(4))\n",
    "print('Testing  ACCURACY:', lr_tuned_fit.score(x_test, y_test).round(4))\n",
    "print('AUC Score        :', roc_auc_score(y_true  = y_test,\n",
    "                                          y_score = lr_tuned_pred).round(4))\n",
    "\n",
    "\n",
    "# saving scoring data for future use\n",
    "lr_tuned_train_score = lr_tuned_fit.score(x_train, y_train).round(4) # accuracy\n",
    "lr_tuned_test_score  = lr_tuned_fit.score(x_test, y_test).round(4)   # accuracy\n",
    "\n",
    "\n",
    "# saving the AUC score\n",
    "lr_tuned_auc         = roc_auc_score(y_true  = y_test,\n",
    "                                     y_score = lr_tuned_pred).round(4) # auc"
   ]
  },
  {
   "cell_type": "markdown",
   "metadata": {},
   "source": [
    "### Confusion Matrix"
   ]
  },
  {
   "cell_type": "code",
   "execution_count": 22,
   "metadata": {
    "deletable": false,
    "editable": false
   },
   "outputs": [
    {
     "name": "stdout",
     "output_type": "stream",
     "text": [
      "\n",
      "True Negatives : 67\n",
      "False Positives: 89\n",
      "False Negatives: 32\n",
      "True Positives : 299\n",
      "\n"
     ]
    }
   ],
   "source": [
    "# unpacking the confusion matrix\n",
    "lr_tuned_tn, \\\n",
    "lr_tuned_fp, \\\n",
    "lr_tuned_fn, \\\n",
    "lr_tuned_tp = confusion_matrix(y_true = y_test, y_pred = lr_tuned_pred).ravel()\n",
    "\n",
    "# printing each result one-by-one\n",
    "print(f\"\"\"\n",
    "True Negatives : {lr_tuned_tn}\n",
    "False Positives: {lr_tuned_fp}\n",
    "False Negatives: {lr_tuned_fn}\n",
    "True Positives : {lr_tuned_tp}\n",
    "\"\"\")"
   ]
  },
  {
   "cell_type": "markdown",
   "metadata": {},
   "source": [
    "### Save the result in model_performance"
   ]
  },
  {
   "cell_type": "code",
   "execution_count": 23,
   "metadata": {
    "deletable": false,
    "editable": false
   },
   "outputs": [
    {
     "name": "stdout",
     "output_type": "stream",
     "text": [
      "\n",
      "Model         AUC Score      TN, FP, FN, TP\n",
      "-----         ---------      --------------\n",
      "Logistic      0.6664         (67, 89, 32, 299)\n",
      "\n",
      "\n"
     ]
    },
    {
     "data": {
      "text/html": [
       "<div>\n",
       "<style scoped>\n",
       "    .dataframe tbody tr th:only-of-type {\n",
       "        vertical-align: middle;\n",
       "    }\n",
       "\n",
       "    .dataframe tbody tr th {\n",
       "        vertical-align: top;\n",
       "    }\n",
       "\n",
       "    .dataframe thead th {\n",
       "        text-align: right;\n",
       "    }\n",
       "</style>\n",
       "<table border=\"1\" class=\"dataframe\">\n",
       "  <thead>\n",
       "    <tr style=\"text-align: right;\">\n",
       "      <th></th>\n",
       "      <th>Model Name</th>\n",
       "      <th>AUC Score</th>\n",
       "      <th>Training Accuracy</th>\n",
       "      <th>Testing Accuracy</th>\n",
       "      <th>Confusion Matrix</th>\n",
       "    </tr>\n",
       "  </thead>\n",
       "  <tbody>\n",
       "    <tr>\n",
       "      <th>0</th>\n",
       "      <td>Logistic Regression</td>\n",
       "      <td>0.6664</td>\n",
       "      <td>0.7382</td>\n",
       "      <td>0.7515</td>\n",
       "      <td>(67, 89, 32, 299)</td>\n",
       "    </tr>\n",
       "  </tbody>\n",
       "</table>\n",
       "</div>"
      ],
      "text/plain": [
       "            Model Name  AUC Score  Training Accuracy  Testing Accuracy   Confusion Matrix\n",
       "0  Logistic Regression     0.6664             0.7382            0.7515  (67, 89, 32, 299)"
      ]
     },
     "execution_count": 23,
     "metadata": {},
     "output_type": "execute_result"
    }
   ],
   "source": [
    "# comparing results\n",
    "print(f\"\"\"\n",
    "Model         AUC Score      TN, FP, FN, TP\n",
    "-----         ---------      --------------\n",
    "Logistic      {lr_tuned_auc}         {lr_tuned_tn, lr_tuned_fp, lr_tuned_fn, lr_tuned_tp}\n",
    "\n",
    "\"\"\")\n",
    "\n",
    "\n",
    "# creating a dictionary for model results\n",
    "model_performance = {\n",
    "    \n",
    "    'Model Name'    : ['Logistic Regression'],\n",
    "           \n",
    "    'AUC Score' : [lr_tuned_auc],\n",
    "    \n",
    "    'Training Accuracy' : [lr_tuned_train_score],\n",
    "           \n",
    "    'Testing Accuracy'  : [lr_tuned_test_score],\n",
    "\n",
    "    'Confusion Matrix'  : [(lr_tuned_tn, lr_tuned_fp, lr_tuned_fn, lr_tuned_tp)]}\n",
    "\n",
    "\n",
    "# converting model_performance into a DataFrame\n",
    "model_performance = pd.DataFrame(model_performance)\n",
    "\n",
    "\n",
    "# sending model results to Excel\n",
    "model_performance.to_excel('model_performance.xlsx',\n",
    "                           index = False)\n",
    "\n",
    "pd.read_excel('model_performance.xlsx')"
   ]
  },
  {
   "cell_type": "markdown",
   "metadata": {},
   "source": [
    "## Decision Tree - final model\n"
   ]
  },
  {
   "cell_type": "markdown",
   "metadata": {},
   "source": [
    "### Full data for Decision tree"
   ]
  },
  {
   "cell_type": "code",
   "execution_count": 24,
   "metadata": {
    "deletable": false,
    "editable": false
   },
   "outputs": [],
   "source": [
    "# declaring explanatory variables\n",
    "df_data = df.drop(['CROSS_SELL_SUCCESS'], axis = 1)\n",
    "\n",
    "# declaring response variable\n",
    "df_target = df.loc[ : , 'CROSS_SELL_SUCCESS']\n",
    "\n",
    "# train-test split with stratification\n",
    "x_train, x_test, y_train, y_test = train_test_split(\n",
    "                                                    df_data,\n",
    "                                                    df_target,\n",
    "                                                    test_size    = 0.25,\n",
    "                                                    random_state = 219,\n",
    "                                                    stratify     = df_target)\n"
   ]
  },
  {
   "cell_type": "markdown",
   "metadata": {},
   "source": [
    "### Hyperparameter tuning"
   ]
  },
  {
   "cell_type": "code",
   "execution_count": null,
   "metadata": {
    "deletable": false,
    "editable": false,
    "run_control": {
     "frozen": true
    }
   },
   "outputs": [],
   "source": [
    "# declaring a hyperparameter space\n",
    "criterion_space = ['gini', 'entropy']\n",
    "splitter_space  = ['best', 'random']\n",
    "depth_space     = pd.np.arange(1, 8, 1) \n",
    "leaf_space      = pd.np.arange(1, 200, 1)\n",
    "\n",
    "\n",
    "# creating a hyperparameter grid\n",
    "param_grid = {'criterion'        : criterion_space,\n",
    "              'splitter'         : splitter_space,\n",
    "              'max_depth'        : depth_space,\n",
    "              'min_samples_leaf' : leaf_space}\n",
    "\n",
    "\n",
    "# INSTANTIATING the model object without hyperparameters\n",
    "tuned_tree = DecisionTreeClassifier(random_state = 219)\n",
    "# RandomizedSearchCV object\n",
    "tuned_tree_cv = RandomizedSearchCV(estimator             = tuned_tree,\n",
    "                                   param_distributions   = param_grid,\n",
    "                                   cv                    = 3,\n",
    "                                   n_iter                = 300, # changed for the sake of time\n",
    "                                   random_state          = 219,\n",
    "                                   scoring = make_scorer(roc_auc_score,\n",
    "                                             needs_threshold = False))\n",
    "\n",
    "\n",
    "# FITTING to the FULL DATASET (due to cross-validation)\n",
    "tuned_tree_cv.fit(df_data, df_target)\n",
    "\n",
    "\n",
    "# PREDICT step is not needed\n",
    "\n",
    "\n",
    "# printing the optimal parameters and best score\n",
    "print(\"Tuned Parameters  :\", tuned_tree_cv.best_params_)\n",
    "print(\"Tuned Training AUC:\", tuned_tree_cv.best_score_.round(4))"
   ]
  },
  {
   "cell_type": "code",
   "execution_count": null,
   "metadata": {
    "deletable": false,
    "editable": false,
    "run_control": {
     "frozen": true
    }
   },
   "outputs": [],
   "source": [
    "tuned_tree_cv.best_estimator_"
   ]
  },
  {
   "cell_type": "markdown",
   "metadata": {},
   "source": [
    "### Apply Decision Tree model"
   ]
  },
  {
   "cell_type": "code",
   "execution_count": 48,
   "metadata": {
    "deletable": false,
    "editable": false,
    "run_control": {
     "frozen": true
    }
   },
   "outputs": [],
   "source": [
    "#Set df_data and df_target for logit_sig_2\n",
    "df_data   =  df.loc[ : , feature_dict['tree']]\n",
    "df_target =  df.loc[ : , 'CROSS_SELL_SUCCESS']\n",
    "\n",
    "# train/test split\n",
    "x_train, x_test, y_train, y_test = train_test_split(\n",
    "                                                    df_data,\n",
    "                                                    df_target,\n",
    "                                                    random_state = 219,\n",
    "                                                    test_size    = 0.25,\n",
    "                                                    stratify     = df_target)"
   ]
  },
  {
   "cell_type": "code",
   "execution_count": 25,
   "metadata": {
    "deletable": false,
    "editable": false
   },
   "outputs": [
    {
     "name": "stdout",
     "output_type": "stream",
     "text": [
      " Training ACCURACY: 0.7402\n",
      " Testing  ACCURACY: 0.7762\n",
      " Tuned AUC Score  : 0.732\n"
     ]
    }
   ],
   "source": [
    "#classification tree tuned\n",
    "tree_tuned      = DecisionTreeClassifier(max_depth=3, min_samples_leaf=18, random_state=219)\n",
    "\n",
    "tree_tuned_fit  = tree_tuned.fit(x_train, y_train)\n",
    "\n",
    "tree_tuned_pred = tree_tuned.predict(x_test)\n",
    "\n",
    "\n",
    "# SCORING the results\n",
    "print(' Training ACCURACY:', tree_tuned_fit.score(x_train, y_train).round(4))\n",
    "print(' Testing  ACCURACY:', tree_tuned_fit.score(x_test, y_test).round(4))\n",
    "print(' Tuned AUC Score  :', roc_auc_score(y_true  = y_test,\n",
    "                                           y_score = tree_tuned_pred).round(4))\n",
    "\n",
    "# saving scoring data for future use\n",
    "tree_train_score = tree_tuned_fit.score(x_train, y_train).round(4) # accuracy\n",
    "tree_test_score  = tree_tuned_fit.score(x_test, y_test).round(4)   # accuracy\n",
    "\n",
    "\n",
    "# saving the AUC score\n",
    "tree_auc = roc_auc_score(y_true  = y_test,\n",
    "                         y_score = tree_tuned_pred).round(4) # auc"
   ]
  },
  {
   "cell_type": "code",
   "execution_count": 50,
   "metadata": {
    "deletable": false,
    "editable": false,
    "run_control": {
     "frozen": true
    }
   },
   "outputs": [
    {
     "data": {
      "image/png": "[encoded data removed]",
      "text/plain": [
       "<IPython.core.display.Image object>"
      ]
     },
     "execution_count": 50,
     "metadata": {
      "image/png": {
       "height": 500,
       "width": 800
      }
     },
     "output_type": "execute_result"
    }
   ],
   "source": [
    "# calling display_tree\n",
    "display_tree(tree       = tree_tuned_fit,\n",
    "             feature_df = x_train)\n",
    "\n"
   ]
  },
  {
   "cell_type": "code",
   "execution_count": 51,
   "metadata": {},
   "outputs": [
    {
     "name": "stderr",
     "output_type": "stream",
     "text": [
      "<ipython-input-3-d3e8809fbf0a>:62: FutureWarning: The pandas.np module is deprecated and will be removed from pandas in a future version. Import numpy directly instead\n",
      "  plt.yticks(pd.np.arange(n_features), train.columns)\n"
     ]
    },
    {
     "data": {
      "image/png": "[encoded data removed]",
      "text/plain": [
       "<Figure size 864x648 with 1 Axes>"
      ]
     },
     "metadata": {
      "needs_background": "light"
     },
     "output_type": "display_data"
    }
   ],
   "source": [
    "# plotting feature importance\n",
    "plot_feature_importances(tree_tuned_fit,\n",
    "                         train  = x_train,\n",
    "                         export = False)\n",
    "\n",
    "plt.tight_layout()\n",
    "# NEW! Saving a figure as an image\n",
    "plt.savefig(fname = 'Feature Importance.png')\n"
   ]
  },
  {
   "cell_type": "markdown",
   "metadata": {},
   "source": [
    "### Confusion Matrix"
   ]
  },
  {
   "cell_type": "code",
   "execution_count": 26,
   "metadata": {
    "deletable": false,
    "editable": false
   },
   "outputs": [
    {
     "name": "stdout",
     "output_type": "stream",
     "text": [
      "\n",
      "True Negatives : 95\n",
      "False Positives: 61\n",
      "False Negatives: 48\n",
      "True Positives : 283\n",
      "\n"
     ]
    }
   ],
   "source": [
    "# unpacking the confusion matrix\n",
    "tree_tuned_tn, \\\n",
    "tree_tuned_fp, \\\n",
    "tree_tuned_fn, \\\n",
    "tree_tuned_tp = confusion_matrix(y_true = y_test, y_pred = tree_tuned_pred).ravel()\n",
    "\n",
    "# printing each result one-by-one\n",
    "print(f\"\"\"\n",
    "True Negatives : {tree_tuned_tn}\n",
    "False Positives: {tree_tuned_fp}\n",
    "False Negatives: {tree_tuned_fn}\n",
    "True Positives : {tree_tuned_tp}\n",
    "\"\"\")"
   ]
  },
  {
   "cell_type": "markdown",
   "metadata": {},
   "source": [
    "### Save the results"
   ]
  },
  {
   "cell_type": "code",
   "execution_count": 27,
   "metadata": {
    "deletable": false,
    "editable": false
   },
   "outputs": [
    {
     "data": {
      "text/html": [
       "<div>\n",
       "<style scoped>\n",
       "    .dataframe tbody tr th:only-of-type {\n",
       "        vertical-align: middle;\n",
       "    }\n",
       "\n",
       "    .dataframe tbody tr th {\n",
       "        vertical-align: top;\n",
       "    }\n",
       "\n",
       "    .dataframe thead th {\n",
       "        text-align: right;\n",
       "    }\n",
       "</style>\n",
       "<table border=\"1\" class=\"dataframe\">\n",
       "  <thead>\n",
       "    <tr style=\"text-align: right;\">\n",
       "      <th></th>\n",
       "      <th>Model Name</th>\n",
       "      <th>AUC Score</th>\n",
       "      <th>Training Accuracy</th>\n",
       "      <th>Testing Accuracy</th>\n",
       "      <th>Confusion Matrix</th>\n",
       "    </tr>\n",
       "  </thead>\n",
       "  <tbody>\n",
       "    <tr>\n",
       "      <th>0</th>\n",
       "      <td>Logistic Regression</td>\n",
       "      <td>0.6664</td>\n",
       "      <td>0.7382</td>\n",
       "      <td>0.7515</td>\n",
       "      <td>(67, 89, 32, 299)</td>\n",
       "    </tr>\n",
       "    <tr>\n",
       "      <th>1</th>\n",
       "      <td>Tuned Tree</td>\n",
       "      <td>0.7320</td>\n",
       "      <td>0.7402</td>\n",
       "      <td>0.7762</td>\n",
       "      <td>(95, 61, 48, 283)</td>\n",
       "    </tr>\n",
       "  </tbody>\n",
       "</table>\n",
       "</div>"
      ],
      "text/plain": [
       "            Model Name  AUC Score  Training Accuracy  Testing Accuracy   Confusion Matrix\n",
       "0  Logistic Regression     0.6664             0.7382            0.7515  (67, 89, 32, 299)\n",
       "1           Tuned Tree     0.7320             0.7402            0.7762  (95, 61, 48, 283)"
      ]
     },
     "execution_count": 27,
     "metadata": {},
     "output_type": "execute_result"
    }
   ],
   "source": [
    "# declaring model performance objects\n",
    "tree_train_acc = tree_tuned_fit.score(x_train, y_train).round(4)\n",
    "tree_test_acc  = tree_tuned_fit.score(x_test, y_test).round(4)\n",
    "tree_auc       = roc_auc_score(y_true  = y_test,\n",
    "                               y_score = tree_tuned_pred).round(4)\n",
    "\n",
    "# appending to model_performance\n",
    "model_performance = model_performance.append(\n",
    "                          {'Model Name'             : 'Tuned Tree',\n",
    "                          'Training Accuracy'  : tree_train_acc,\n",
    "                          'Testing Accuracy'   : tree_test_acc,\n",
    "                          'AUC Score'          : tree_auc,\n",
    "                          'Confusion Matrix'   : (tree_tuned_tn,\n",
    "                                                  tree_tuned_fp,\n",
    "                                                  tree_tuned_fn,\n",
    "                                                  tree_tuned_tp)},\n",
    "                          ignore_index = True)\n",
    "\n",
    "\n",
    "# checking the results\n",
    "model_performance\n"
   ]
  },
  {
   "cell_type": "markdown",
   "metadata": {},
   "source": [
    "## GBM \n"
   ]
  },
  {
   "cell_type": "markdown",
   "metadata": {},
   "source": [
    "### Using logit_sig variables"
   ]
  },
  {
   "cell_type": "code",
   "execution_count": 28,
   "metadata": {},
   "outputs": [],
   "source": [
    "df_data   =  df.loc[ : , feature_dict['logit_sig']]\n",
    "df_target =  df.loc[ : , 'CROSS_SELL_SUCCESS']\n",
    "\n",
    "# train/test split\n",
    "x_train, x_test, y_train, y_test = train_test_split(\n",
    "                                                    df_data,\n",
    "                                                    df_target,\n",
    "                                                    random_state = 219,\n",
    "                                                    test_size    = 0.25,\n",
    "                                                    stratify     = df_target)"
   ]
  },
  {
   "cell_type": "markdown",
   "metadata": {},
   "source": [
    "### Apply GBM with tuned hyperparameter"
   ]
  },
  {
   "cell_type": "code",
   "execution_count": 29,
   "metadata": {
    "deletable": false,
    "editable": false
   },
   "outputs": [
    {
     "name": "stdout",
     "output_type": "stream",
     "text": [
      "Training ACCURACY: 0.7786\n",
      "Testing ACCURACY : 0.7823\n",
      "AUC Score        : 0.7144821442404524\n"
     ]
    }
   ],
   "source": [
    "# INSTANTIATING the model object without hyperparameters\n",
    "gbm_tuned = GradientBoostingClassifier(loss           = 'exponential',\n",
    "                                               learning_rate = 0.2, \n",
    "                                               n_estimators  = 200,\n",
    "                                               criterion     = 'friedman_mse',\n",
    "                                               max_depth     = 2,\n",
    "                                               warm_start    = False,\n",
    "                                               random_state  = 219)\n",
    "\n",
    "\n",
    "# FIT step is needed as we are not using .best_estimator\n",
    "gbm_tuned_fit = gbm_tuned.fit(x_train, y_train)\n",
    "\n",
    "\n",
    "# PREDICTING based on the testing set\n",
    "gbm_tuned_pred = gbm_tuned.predict(x_test)\n",
    "\n",
    "\n",
    "# SCORING the results\n",
    "print('Training ACCURACY:', gbm_tuned_fit.score(x_train, y_train).round(4))\n",
    "print('Testing ACCURACY :', gbm_tuned_fit.score(x_test, y_test).round(4))\n",
    "print('AUC Score        :', roc_auc_score(y_true  = y_test,\n",
    "                                          y_score = gbm_tuned_pred.round(4)))"
   ]
  },
  {
   "cell_type": "markdown",
   "metadata": {},
   "source": [
    "### Confusion Matrix"
   ]
  },
  {
   "cell_type": "code",
   "execution_count": 30,
   "metadata": {
    "deletable": false,
    "editable": false
   },
   "outputs": [
    {
     "name": "stdout",
     "output_type": "stream",
     "text": [
      "\n",
      "True Negatives : 82\n",
      "False Positives: 74\n",
      "False Negatives: 32\n",
      "True Positives : 299\n",
      "\n"
     ]
    }
   ],
   "source": [
    "# unpacking the confusion matrix\n",
    "gbm_tuned_tn, \\\n",
    "gbm_tuned_fp, \\\n",
    "gbm_tuned_fn, \\\n",
    "gbm_tuned_tp = confusion_matrix(y_true = y_test, y_pred = gbm_tuned_pred).ravel()\n",
    "\n",
    "\n",
    "# printing each result one-by-one\n",
    "print(f\"\"\"\n",
    "True Negatives : {gbm_tuned_tn}\n",
    "False Positives: {gbm_tuned_fp}\n",
    "False Negatives: {gbm_tuned_fn}\n",
    "True Positives : {gbm_tuned_tp}\n",
    "\"\"\")"
   ]
  },
  {
   "cell_type": "markdown",
   "metadata": {},
   "source": [
    "### Save the results"
   ]
  },
  {
   "cell_type": "code",
   "execution_count": 31,
   "metadata": {
    "deletable": false,
    "editable": false
   },
   "outputs": [
    {
     "data": {
      "text/html": [
       "<div>\n",
       "<style scoped>\n",
       "    .dataframe tbody tr th:only-of-type {\n",
       "        vertical-align: middle;\n",
       "    }\n",
       "\n",
       "    .dataframe tbody tr th {\n",
       "        vertical-align: top;\n",
       "    }\n",
       "\n",
       "    .dataframe thead th {\n",
       "        text-align: right;\n",
       "    }\n",
       "</style>\n",
       "<table border=\"1\" class=\"dataframe\">\n",
       "  <thead>\n",
       "    <tr style=\"text-align: right;\">\n",
       "      <th></th>\n",
       "      <th>Model Name</th>\n",
       "      <th>AUC Score</th>\n",
       "      <th>Training Accuracy</th>\n",
       "      <th>Testing Accuracy</th>\n",
       "      <th>Confusion Matrix</th>\n",
       "    </tr>\n",
       "  </thead>\n",
       "  <tbody>\n",
       "    <tr>\n",
       "      <th>0</th>\n",
       "      <td>Logistic Regression</td>\n",
       "      <td>0.6664</td>\n",
       "      <td>0.7382</td>\n",
       "      <td>0.7515</td>\n",
       "      <td>(67, 89, 32, 299)</td>\n",
       "    </tr>\n",
       "    <tr>\n",
       "      <th>1</th>\n",
       "      <td>Tuned Tree</td>\n",
       "      <td>0.7320</td>\n",
       "      <td>0.7402</td>\n",
       "      <td>0.7762</td>\n",
       "      <td>(95, 61, 48, 283)</td>\n",
       "    </tr>\n",
       "    <tr>\n",
       "      <th>2</th>\n",
       "      <td>Tuned GBM</td>\n",
       "      <td>0.7145</td>\n",
       "      <td>0.7786</td>\n",
       "      <td>0.7823</td>\n",
       "      <td>(82, 74, 32, 299)</td>\n",
       "    </tr>\n",
       "  </tbody>\n",
       "</table>\n",
       "</div>"
      ],
      "text/plain": [
       "            Model Name  AUC Score  Training Accuracy  Testing Accuracy   Confusion Matrix\n",
       "0  Logistic Regression     0.6664             0.7382            0.7515  (67, 89, 32, 299)\n",
       "1           Tuned Tree     0.7320             0.7402            0.7762  (95, 61, 48, 283)\n",
       "2            Tuned GBM     0.7145             0.7786            0.7823  (82, 74, 32, 299)"
      ]
     },
     "execution_count": 31,
     "metadata": {},
     "output_type": "execute_result"
    }
   ],
   "source": [
    "# SCORING the model\n",
    "tuned_gbm_train_acc = gbm_tuned_fit.score(x_train, y_train).round(4)\n",
    "tuned_gbm_test_acc  = gbm_tuned_fit.score(x_test, y_test).round(4)\n",
    "tuned_gbm_auc       = roc_auc_score(y_true  = y_test,\n",
    "                              y_score = gbm_tuned_pred).round(4)\n",
    "\n",
    "\n",
    "# appending to model_performance\n",
    "model_performance = model_performance.append(\n",
    "                          {'Model Name'       : 'Tuned GBM',\n",
    "                          'Training Accuracy' : tuned_gbm_train_acc,\n",
    "                          'Testing Accuracy'  : tuned_gbm_test_acc,\n",
    "                          'AUC Score'         : tuned_gbm_auc,\n",
    "                          'Confusion Matrix'  : (gbm_tuned_tn,\n",
    "                                                 gbm_tuned_fp,\n",
    "                                                 gbm_tuned_fn,\n",
    "                                                 gbm_tuned_tp)},\n",
    "                          ignore_index = True)\n",
    "\n",
    "\n",
    "# checking the results\n",
    "model_performance\n"
   ]
  },
  {
   "cell_type": "markdown",
   "metadata": {},
   "source": [
    "## Random Forest "
   ]
  },
  {
   "cell_type": "markdown",
   "metadata": {},
   "source": [
    "### Using logit_sig "
   ]
  },
  {
   "cell_type": "code",
   "execution_count": 32,
   "metadata": {
    "deletable": false,
    "editable": false
   },
   "outputs": [],
   "source": [
    "df_data   =  df.loc[ : , feature_dict['logit_sig']]\n",
    "df_target =  df.loc[ : , 'CROSS_SELL_SUCCESS']\n",
    "\n",
    "# train/test split\n",
    "x_train, x_test, y_train, y_test = train_test_split(\n",
    "                                                    df_data,\n",
    "                                                    df_target,\n",
    "                                                    random_state = 219,\n",
    "                                                    test_size    = 0.25,\n",
    "                                                    stratify     = df_target)"
   ]
  },
  {
   "cell_type": "code",
   "execution_count": null,
   "metadata": {
    "deletable": false,
    "editable": false,
    "run_control": {
     "frozen": true
    }
   },
   "outputs": [],
   "source": [
    "# declaring a hyperparameter space\n",
    "estimator_space  = pd.np.arange(100, 1100, 250)\n",
    "leaf_space       = pd.np.arange(1, 30, 10)\n",
    "criterion_space  = ['gini', 'entropy']\n",
    "bootstrap_space  = [True, False]\n",
    "warm_start_space = [True, False]\n",
    "\n",
    "\n",
    "# creating a hyperparameter grid\n",
    "param_grid = {'n_estimators'     : estimator_space,\n",
    "              'min_samples_leaf' : leaf_space,\n",
    "              'criterion'        : criterion_space,\n",
    "              'bootstrap'        : bootstrap_space,\n",
    "              'warm_start'       : warm_start_space}\n",
    "\n",
    "\n",
    "# INSTANTIATING the model object without hyperparameters\n",
    "forest_grid = RandomForestClassifier(random_state = 219)\n",
    "\n",
    "\n",
    "# GridSearchCV object\n",
    "forest_cv = RandomizedSearchCV(estimator           = forest_grid,\n",
    "                               param_distributions = param_grid,\n",
    "                               cv                  = 3,\n",
    "                               n_iter              = 1000,\n",
    "                               scoring             = make_scorer(roc_auc_score,\n",
    "                                                     needs_threshold = False))\n",
    "\n",
    "\n",
    "# FITTING to the FULL DATASET (due to cross-validation)\n",
    "forest_cv.fit(df_data, df_target)\n",
    "\n",
    "\n",
    "# PREDICT step is not needed\n",
    "\n",
    "\n",
    "# printing the optimal parameters and best score\n",
    "print(\"Tuned Parameters  :\", forest_cv.best_params_)\n",
    "print(\"Tuned Training AUC:\", forest_cv.best_score_.round(4))"
   ]
  },
  {
   "cell_type": "code",
   "execution_count": null,
   "metadata": {
    "deletable": false,
    "editable": false,
    "run_control": {
     "frozen": true
    }
   },
   "outputs": [],
   "source": [
    "# best estimators based on RandomizedSearchCV\n",
    "forest_cv.best_estimator_"
   ]
  },
  {
   "cell_type": "markdown",
   "metadata": {},
   "source": [
    "### Apply Random Forest with tuned hyperparameter"
   ]
  },
  {
   "cell_type": "code",
   "execution_count": 33,
   "metadata": {
    "deletable": false,
    "editable": false
   },
   "outputs": [
    {
     "name": "stdout",
     "output_type": "stream",
     "text": [
      "Training ACCURACY: 0.7724\n",
      "Testing  ACCURACY: 0.7803\n",
      "AUC Score        : 0.7011\n"
     ]
    }
   ],
   "source": [
    "# INSTANTIATING a random forest model with default values\n",
    "rf_tuned = RandomForestClassifier(bootstrap=False, criterion='entropy',\n",
    "                       min_samples_leaf=21, random_state=219, warm_start=True)\n",
    "\n",
    "# FITTING the training data\n",
    "rf_tuned_fit = rf_tuned.fit(x_train, y_train)\n",
    "\n",
    "\n",
    "# PREDICTING based on the testing set\n",
    "rf_tuned_pred = rf_tuned.predict(x_test)\n",
    "\n",
    "\n",
    "# SCORING the results\n",
    "print('Training ACCURACY:', rf_tuned_fit.score(x_train, y_train).round(4))\n",
    "print('Testing  ACCURACY:', rf_tuned_fit.score(x_test, y_test).round(4))\n",
    "\n",
    "\n",
    "# saving AUC score\n",
    "print('AUC Score        :', roc_auc_score(y_true  = y_test,\n",
    "                                          y_score = rf_tuned_pred).round(4))"
   ]
  },
  {
   "cell_type": "markdown",
   "metadata": {},
   "source": [
    "### Confusion Matrix"
   ]
  },
  {
   "cell_type": "code",
   "execution_count": 34,
   "metadata": {
    "deletable": false,
    "editable": false
   },
   "outputs": [
    {
     "name": "stdout",
     "output_type": "stream",
     "text": [
      "\n",
      "True Negatives : 75\n",
      "False Positives: 81\n",
      "False Negatives: 26\n",
      "True Positives : 305\n",
      "\n"
     ]
    }
   ],
   "source": [
    "# unpacking the confusion matrix\n",
    "rf_tuned_tn, \\\n",
    "rf_tuned_fp, \\\n",
    "rf_tuned_fn, \\\n",
    "rf_tuned_tp = confusion_matrix(y_true = y_test, y_pred = rf_tuned_pred).ravel()\n",
    "\n",
    "\n",
    "# printing each result one-by-one\n",
    "print(f\"\"\"\n",
    "True Negatives : {rf_tuned_tn}\n",
    "False Positives: {rf_tuned_fp}\n",
    "False Negatives: {rf_tuned_fn}\n",
    "True Positives : {rf_tuned_tp}\n",
    "\"\"\")"
   ]
  },
  {
   "cell_type": "markdown",
   "metadata": {},
   "source": [
    "### Save the results"
   ]
  },
  {
   "cell_type": "code",
   "execution_count": 35,
   "metadata": {
    "deletable": false,
    "editable": false
   },
   "outputs": [
    {
     "data": {
      "text/html": [
       "<div>\n",
       "<style scoped>\n",
       "    .dataframe tbody tr th:only-of-type {\n",
       "        vertical-align: middle;\n",
       "    }\n",
       "\n",
       "    .dataframe tbody tr th {\n",
       "        vertical-align: top;\n",
       "    }\n",
       "\n",
       "    .dataframe thead th {\n",
       "        text-align: right;\n",
       "    }\n",
       "</style>\n",
       "<table border=\"1\" class=\"dataframe\">\n",
       "  <thead>\n",
       "    <tr style=\"text-align: right;\">\n",
       "      <th></th>\n",
       "      <th>Model Name</th>\n",
       "      <th>AUC Score</th>\n",
       "      <th>Training Accuracy</th>\n",
       "      <th>Testing Accuracy</th>\n",
       "      <th>Confusion Matrix</th>\n",
       "    </tr>\n",
       "  </thead>\n",
       "  <tbody>\n",
       "    <tr>\n",
       "      <th>0</th>\n",
       "      <td>Logistic Regression</td>\n",
       "      <td>0.6664</td>\n",
       "      <td>0.7382</td>\n",
       "      <td>0.7515</td>\n",
       "      <td>(67, 89, 32, 299)</td>\n",
       "    </tr>\n",
       "    <tr>\n",
       "      <th>1</th>\n",
       "      <td>Tuned Tree</td>\n",
       "      <td>0.7320</td>\n",
       "      <td>0.7402</td>\n",
       "      <td>0.7762</td>\n",
       "      <td>(95, 61, 48, 283)</td>\n",
       "    </tr>\n",
       "    <tr>\n",
       "      <th>2</th>\n",
       "      <td>Tuned GBM</td>\n",
       "      <td>0.7145</td>\n",
       "      <td>0.7786</td>\n",
       "      <td>0.7823</td>\n",
       "      <td>(82, 74, 32, 299)</td>\n",
       "    </tr>\n",
       "    <tr>\n",
       "      <th>3</th>\n",
       "      <td>Tuned Random Forest</td>\n",
       "      <td>0.7011</td>\n",
       "      <td>0.7724</td>\n",
       "      <td>0.7803</td>\n",
       "      <td>(75, 81, 26, 305)</td>\n",
       "    </tr>\n",
       "  </tbody>\n",
       "</table>\n",
       "</div>"
      ],
      "text/plain": [
       "            Model Name  AUC Score  Training Accuracy  Testing Accuracy   Confusion Matrix\n",
       "0  Logistic Regression     0.6664             0.7382            0.7515  (67, 89, 32, 299)\n",
       "1           Tuned Tree     0.7320             0.7402            0.7762  (95, 61, 48, 283)\n",
       "2            Tuned GBM     0.7145             0.7786            0.7823  (82, 74, 32, 299)\n",
       "3  Tuned Random Forest     0.7011             0.7724            0.7803  (75, 81, 26, 305)"
      ]
     },
     "execution_count": 35,
     "metadata": {},
     "output_type": "execute_result"
    }
   ],
   "source": [
    "# declaring model performance objects\n",
    "tuned_rf_train_acc = rf_tuned_fit.score(x_train, y_train).round(4)\n",
    "tuned_rf_test_acc  = rf_tuned_fit.score(x_test, y_test).round(4)\n",
    "tuned_rf_auc       = roc_auc_score(y_true  = y_test,\n",
    "                                   y_score = rf_tuned_pred).round(4)\n",
    "\n",
    "\n",
    "# appending to model_performance\n",
    "model_performance = model_performance.append(\n",
    "                          {'Model Name'         : 'Tuned Random Forest',\n",
    "                           'Training Accuracy'  : tuned_rf_train_acc,\n",
    "                           'Testing Accuracy'   : tuned_rf_test_acc,\n",
    "                           'AUC Score'          : tuned_rf_auc,\n",
    "                           'Confusion Matrix'   : (rf_tuned_tn,\n",
    "                                                   rf_tuned_fp,\n",
    "                                                   rf_tuned_fn,\n",
    "                                                   rf_tuned_tp)},\n",
    "                          ignore_index = True)\n",
    "\n",
    "\n",
    "# checking the results\n",
    "model_performance"
   ]
  },
  {
   "cell_type": "markdown",
   "metadata": {},
   "source": [
    "# CONCLUSION\n",
    "- My final model will be Tuned Decision Tree with AUC score at 0.732 \n",
    "- The gap between Training and Testing Accuracy for all 4 models is acceptable (<0.05)"
   ]
  }
 ],
 "metadata": {
  "kernelspec": {
   "display_name": "Python 3",
   "language": "python",
   "name": "python3"
  },
  "language_info": {
   "codemirror_mode": {
    "name": "ipython",
    "version": 3
   },
   "file_extension": ".py",
   "mimetype": "text/x-python",
   "name": "python",
   "nbconvert_exporter": "python",
   "pygments_lexer": "ipython3",
   "version": "3.8.3"
  },
  "toc": {
   "base_numbering": 1,
   "nav_menu": {},
   "number_sections": true,
   "sideBar": true,
   "skip_h1_title": false,
   "title_cell": "Table of Contents",
   "title_sidebar": "Contents",
   "toc_cell": false,
   "toc_position": {},
   "toc_section_display": true,
   "toc_window_display": false
  },
  "varInspector": {
   "cols": {
    "lenName": 16,
    "lenType": 16,
    "lenVar": 40
   },
   "kernels_config": {
    "python": {
     "delete_cmd_postfix": "",
     "delete_cmd_prefix": "del ",
     "library": "var_list.py",
     "varRefreshCmd": "print(var_dic_list())"
    },
    "r": {
     "delete_cmd_postfix": ") ",
     "delete_cmd_prefix": "rm(",
     "library": "var_list.r",
     "varRefreshCmd": "cat(var_dic_list()) "
    }
   },
   "types_to_exclude": [
    "module",
    "function",
    "builtin_function_or_method",
    "instance",
    "_Feature"
   ],
   "window_display": false
  }
 },
 "nbformat": 4,
 "nbformat_minor": 4
}
