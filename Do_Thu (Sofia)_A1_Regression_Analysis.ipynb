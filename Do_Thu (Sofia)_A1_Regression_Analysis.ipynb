{
 "cells": [
  {
   "cell_type": "markdown",
   "metadata": {},
   "source": [
    "# IMPORT DATA"
   ]
  },
  {
   "cell_type": "code",
   "execution_count": 1,
   "metadata": {
    "deletable": false,
    "editable": false
   },
   "outputs": [],
   "source": [
    "# importing all libraries\n",
    "import pandas as pd                                   # data science essentials\n",
    "import matplotlib.pyplot as plt                       # data visualization\n",
    "import seaborn as sns                                 # enhanced data visualization\n",
    "import numpy as np                                    # numpy for math\n",
    "import statsmodels.formula.api as smf                 # linear regression (statsmodels)\n",
    "from sklearn.model_selection import train_test_split  # train/test split\n",
    "from sklearn.linear_model import LinearRegression     # linear regression (scikit-learn)\n",
    "import sklearn.linear_model                           # linear models\n",
    "\n",
    "# setting pandas print options\n",
    "pd.set_option('display.max_rows', 500)\n",
    "pd.set_option('display.max_columns', 500)\n",
    "pd.set_option('display.width', 1000)\n",
    "\n",
    "\n",
    "# specifying the path and file name\n",
    "file = 'Apprentice_Chef_Dataset.xlsx'\n",
    "\n",
    "\n",
    "# reading the file into Python\n",
    "df = pd.read_excel(io=file)"
   ]
  },
  {
   "cell_type": "code",
   "execution_count": 2,
   "metadata": {
    "deletable": false,
    "editable": false
   },
   "outputs": [
    {
     "name": "stdout",
     "output_type": "stream",
     "text": [
      "\n",
      "Size of Company Dataset\n",
      "------------------------\n",
      "Observations: 1946\n",
      "Features:     28\n",
      "\n"
     ]
    }
   ],
   "source": [
    "df.shape\n",
    "\n",
    "# formatting and printing the dimensions of the dataset\n",
    "print(f\"\"\"\n",
    "Size of Company Dataset\n",
    "------------------------\n",
    "Observations: {df.shape[0]}\n",
    "Features:     {df.shape[1]}\n",
    "\"\"\")"
   ]
  },
  {
   "cell_type": "markdown",
   "metadata": {},
   "source": [
    "# FEATURE ENGINEERING\n"
   ]
  },
  {
   "cell_type": "markdown",
   "metadata": {},
   "source": [
    "## Transform y-variable (Revenue)"
   ]
  },
  {
   "cell_type": "code",
   "execution_count": 3,
   "metadata": {
    "deletable": false,
    "editable": false
   },
   "outputs": [
    {
     "data": {
      "image/png": "[encoded data removed]",
      "text/plain": [
       "<Figure size 720x360 with 1 Axes>"
      ]
     },
     "metadata": {
      "needs_background": "light"
     },
     "output_type": "display_data"
    }
   ],
   "source": [
    "# developing a histogram using DISPLOT for REVENUE variable\n",
    "sns.displot(data   = df,\n",
    "            x      = df.loc[:,'REVENUE'],\n",
    "            height = 5,\n",
    "            aspect = 2)\n",
    "\n",
    "\n",
    "# displaying the histogram\n",
    "plt.show()\n"
   ]
  },
  {
   "cell_type": "code",
   "execution_count": 4,
   "metadata": {
    "deletable": false,
    "editable": false
   },
   "outputs": [],
   "source": [
    "# log transforming REVENUE and saving it to the dataset\n",
    "df['log_REVENUE'] = np.log10(df['REVENUE'])"
   ]
  },
  {
   "cell_type": "markdown",
   "metadata": {},
   "source": [
    "## All variables that contain 0"
   ]
  },
  {
   "cell_type": "code",
   "execution_count": 5,
   "metadata": {
    "deletable": false,
    "editable": false
   },
   "outputs": [
    {
     "name": "stdout",
     "output_type": "stream",
     "text": [
      "\n",
      "                       No\t\tYes\n",
      "                     ---------------------\n",
      "Total photos         | 1140\t\t806\n",
      "Cancel before noon   | 667\t\t1279\n",
      "Cancel after noon    | 1667\t\t279\n",
      "Total class          | 932\t\t1014\n",
      "Total weekly plan    | 468\t\t1478\n",
      "Total early delivery | 1167\t\t779\n",
      "Total late delivery  | 319\t\t1627\n",
      "\n",
      "\n"
     ]
    }
   ],
   "source": [
    "#counting the 0 value of these variables\n",
    "total_photos_zeroes = df['TOTAL_PHOTOS_VIEWED'].value_counts()[0] \n",
    "cancel_before_noon  = df['CANCELLATIONS_BEFORE_NOON'].value_counts()[0] \n",
    "cancel_after_noon   = df['CANCELLATIONS_AFTER_NOON'].value_counts()[0] \n",
    "master_class        = df['MASTER_CLASSES_ATTENDED'].value_counts()[0] \n",
    "weekly_plan         = df['WEEKLY_PLAN'].value_counts()[0]\n",
    "early_delivery      = df['EARLY_DELIVERIES'].value_counts()[0]\n",
    "late_delivery       = df['LATE_DELIVERIES'].value_counts()[0]\n",
    "\n",
    "# printing a table of the results\n",
    "print(f\"\"\"\n",
    "                       No\\t\\tYes\n",
    "                     ---------------------\n",
    "Total photos         | {total_photos_zeroes}\\t\\t{len(df) - total_photos_zeroes}\n",
    "Cancel before noon   | {cancel_before_noon}\\t\\t{len(df) - cancel_before_noon}\n",
    "Cancel after noon    | {cancel_after_noon}\\t\\t{len(df) - cancel_after_noon}\n",
    "Total class          | {master_class}\\t\\t{len(df) - master_class}\n",
    "Total weekly plan    | {weekly_plan}\\t\\t{len(df) - weekly_plan}\n",
    "Total early delivery | {early_delivery}\\t\\t{len(df) - early_delivery}\n",
    "Total late delivery  | {late_delivery}\\t\\t{len(df) - late_delivery}\n",
    "\n",
    "\"\"\")"
   ]
  },
  {
   "cell_type": "code",
   "execution_count": 6,
   "metadata": {
    "deletable": false,
    "editable": false
   },
   "outputs": [
    {
     "data": {
      "text/html": [
       "<div>\n",
       "<style scoped>\n",
       "    .dataframe tbody tr th:only-of-type {\n",
       "        vertical-align: middle;\n",
       "    }\n",
       "\n",
       "    .dataframe tbody tr th {\n",
       "        vertical-align: top;\n",
       "    }\n",
       "\n",
       "    .dataframe thead th {\n",
       "        text-align: right;\n",
       "    }\n",
       "</style>\n",
       "<table border=\"1\" class=\"dataframe\">\n",
       "  <thead>\n",
       "    <tr style=\"text-align: right;\">\n",
       "      <th></th>\n",
       "      <th>HAS_PHOTOS</th>\n",
       "      <th>HAS_CANCEL_BEFORE_NOON</th>\n",
       "      <th>HAS_CANCEL_AFTER_NOON</th>\n",
       "      <th>HAS_CLASS</th>\n",
       "      <th>HAS_WEEKLY_PLAN</th>\n",
       "      <th>HAS_EARLY_DELIVERY</th>\n",
       "      <th>HAS_LATE_DELIVERY</th>\n",
       "    </tr>\n",
       "  </thead>\n",
       "  <tbody>\n",
       "    <tr>\n",
       "      <th>0</th>\n",
       "      <td>0</td>\n",
       "      <td>1</td>\n",
       "      <td>1</td>\n",
       "      <td>0</td>\n",
       "      <td>0</td>\n",
       "      <td>0</td>\n",
       "      <td>1</td>\n",
       "    </tr>\n",
       "    <tr>\n",
       "      <th>1</th>\n",
       "      <td>1</td>\n",
       "      <td>0</td>\n",
       "      <td>0</td>\n",
       "      <td>0</td>\n",
       "      <td>1</td>\n",
       "      <td>0</td>\n",
       "      <td>1</td>\n",
       "    </tr>\n",
       "    <tr>\n",
       "      <th>2</th>\n",
       "      <td>0</td>\n",
       "      <td>1</td>\n",
       "      <td>0</td>\n",
       "      <td>0</td>\n",
       "      <td>1</td>\n",
       "      <td>0</td>\n",
       "      <td>1</td>\n",
       "    </tr>\n",
       "    <tr>\n",
       "      <th>3</th>\n",
       "      <td>0</td>\n",
       "      <td>1</td>\n",
       "      <td>0</td>\n",
       "      <td>0</td>\n",
       "      <td>1</td>\n",
       "      <td>0</td>\n",
       "      <td>1</td>\n",
       "    </tr>\n",
       "    <tr>\n",
       "      <th>4</th>\n",
       "      <td>1</td>\n",
       "      <td>0</td>\n",
       "      <td>0</td>\n",
       "      <td>1</td>\n",
       "      <td>1</td>\n",
       "      <td>0</td>\n",
       "      <td>1</td>\n",
       "    </tr>\n",
       "  </tbody>\n",
       "</table>\n",
       "</div>"
      ],
      "text/plain": [
       "   HAS_PHOTOS  HAS_CANCEL_BEFORE_NOON  HAS_CANCEL_AFTER_NOON  HAS_CLASS  HAS_WEEKLY_PLAN  HAS_EARLY_DELIVERY  HAS_LATE_DELIVERY\n",
       "0           0                       1                      1          0                0                   0                  1\n",
       "1           1                       0                      0          0                1                   0                  1\n",
       "2           0                       1                      0          0                1                   0                  1\n",
       "3           0                       1                      0          0                1                   0                  1\n",
       "4           1                       0                      0          1                1                   0                  1"
      ]
     },
     "execution_count": 6,
     "metadata": {},
     "output_type": "execute_result"
    }
   ],
   "source": [
    "# dummy variable for having feature\n",
    "df['HAS_PHOTOS']               = 0\n",
    "df['HAS_CANCEL_BEFORE_NOON']   = 0\n",
    "df['HAS_CANCEL_AFTER_NOON']    = 0\n",
    "df['HAS_CLASS']                = 0\n",
    "df['HAS_WEEKLY_PLAN']          = 0\n",
    "df['HAS_EARLY_DELIVERY']       = 0\n",
    "df['HAS_LATE_DELIVERY']        = 0\n",
    "\n",
    "# iterating over each original column to\n",
    "# change values in the new feature columns\n",
    "for index, value in df.iterrows():\n",
    "    \n",
    "    # TOTAL_PHOTOS_VIEWED\n",
    "    if df.loc[index, 'TOTAL_PHOTOS_VIEWED'] > 0:\n",
    "        df.loc[index, 'HAS_PHOTOS'] = 1\n",
    "        \n",
    "    # TOTAL CANCELLED ORDERS BEFORE NOON\n",
    "    if df.loc[index, 'CANCELLATIONS_BEFORE_NOON'] > 0:\n",
    "        df.loc[index, 'HAS_CANCEL_BEFORE_NOON'] = 1\n",
    "        \n",
    "    # TOTAL CANCELLED ORDERS AFTER NOON   \n",
    "    if df.loc[index, 'CANCELLATIONS_AFTER_NOON'] > 0:\n",
    "        df.loc[index, 'HAS_CANCEL_AFTER_NOON'] = 1\n",
    "    \n",
    "    # TOTAL MASTER CLASS   \n",
    "    if df.loc[index, 'MASTER_CLASSES_ATTENDED'] > 0:\n",
    "        df.loc[index, 'HAS_CLASS'] = 1\n",
    "        \n",
    "    # TOTAL WEEKLY PLAN   \n",
    "    if df.loc[index, 'WEEKLY_PLAN'] > 0:\n",
    "        df.loc[index, 'HAS_WEEKLY_PLAN'] = 1\n",
    "        \n",
    "    # TOTAL EARLY DELIVERY  \n",
    "    if df.loc[index, 'EARLY_DELIVERIES'] > 0:\n",
    "        df.loc[index, 'HAS_EARLY_DELIVERY'] = 1   \n",
    "        \n",
    "    # TOTAL LATE DELIVERY  \n",
    "    if df.loc[index, 'LATE_DELIVERIES'] > 0:\n",
    "        df.loc[index, 'HAS_LATE_DELIVERY'] = 1 \n",
    "        \n",
    "df[['HAS_PHOTOS', 'HAS_CANCEL_BEFORE_NOON', 'HAS_CANCEL_AFTER_NOON',\\\n",
    "    'HAS_CLASS', 'HAS_WEEKLY_PLAN','HAS_EARLY_DELIVERY','HAS_LATE_DELIVERY' ]].head()"
   ]
  },
  {
   "cell_type": "code",
   "execution_count": 7,
   "metadata": {
    "deletable": false,
    "editable": false
   },
   "outputs": [
    {
     "data": {
      "text/plain": [
       "HAS_CLASS                 0.453022\n",
       "HAS_PHOTOS                0.372072\n",
       "HAS_CANCEL_BEFORE_NOON    0.024267\n",
       "HAS_EARLY_DELIVERY        0.013471\n",
       "HAS_LATE_DELIVERY        -0.017615\n",
       "HAS_WEEKLY_PLAN          -0.032196\n",
       "HAS_CANCEL_AFTER_NOON    -0.040339\n",
       "Name: REVENUE, dtype: float64"
      ]
     },
     "execution_count": 7,
     "metadata": {},
     "output_type": "execute_result"
    }
   ],
   "source": [
    "# developing a small correlation matrix\n",
    "zeroes_corr = df.corr()    \n",
    "\n",
    "\n",
    "# checking the correlations of the newly-created variables with REVENUE\n",
    "zeroes_corr.loc['REVENUE',                                   # Y-variable\n",
    "               ['HAS_PHOTOS', 'HAS_CANCEL_BEFORE_NOON',\\\n",
    "                'HAS_CANCEL_AFTER_NOON', 'HAS_CLASS', 'HAS_WEEKLY_PLAN',\\\n",
    "               'HAS_EARLY_DELIVERY','HAS_LATE_DELIVERY' ]]\\\n",
    "                .sort_values(ascending = False)"
   ]
  },
  {
   "cell_type": "code",
   "execution_count": 8,
   "metadata": {
    "deletable": false,
    "editable": false
   },
   "outputs": [
    {
     "data": {
      "image/png": "[encoded data removed]",
      "text/plain": [
       "<Figure size 648x432 with 1 Axes>"
      ]
     },
     "metadata": {
      "needs_background": "light"
     },
     "output_type": "display_data"
    }
   ],
   "source": [
    "# setting figure size\n",
    "fig, ax = plt.subplots(figsize = (9, 6))\n",
    "\n",
    "\n",
    "# developing a scatterplot\n",
    "sns.scatterplot (x    = \"TOTAL_MEALS_ORDERED\",\n",
    "                 y    = \"REVENUE\",\n",
    "                 data = df)\n",
    "\n",
    "plt.xlim(0, 300)\n",
    "\n",
    "# SHOWing the results\n",
    "plt.tight_layout()\n",
    "plt.show()"
   ]
  },
  {
   "cell_type": "code",
   "execution_count": 9,
   "metadata": {
    "deletable": false,
    "editable": false
   },
   "outputs": [
    {
     "data": {
      "text/html": [
       "<div>\n",
       "<style scoped>\n",
       "    .dataframe tbody tr th:only-of-type {\n",
       "        vertical-align: middle;\n",
       "    }\n",
       "\n",
       "    .dataframe tbody tr th {\n",
       "        vertical-align: top;\n",
       "    }\n",
       "\n",
       "    .dataframe thead th {\n",
       "        text-align: right;\n",
       "    }\n",
       "</style>\n",
       "<table border=\"1\" class=\"dataframe\">\n",
       "  <thead>\n",
       "    <tr style=\"text-align: right;\">\n",
       "      <th></th>\n",
       "      <th>HAS_TOTAL_MEALS_ORDERED</th>\n",
       "    </tr>\n",
       "  </thead>\n",
       "  <tbody>\n",
       "    <tr>\n",
       "      <th>0</th>\n",
       "      <td>0</td>\n",
       "    </tr>\n",
       "    <tr>\n",
       "      <th>1</th>\n",
       "      <td>1</td>\n",
       "    </tr>\n",
       "    <tr>\n",
       "      <th>2</th>\n",
       "      <td>0</td>\n",
       "    </tr>\n",
       "    <tr>\n",
       "      <th>3</th>\n",
       "      <td>0</td>\n",
       "    </tr>\n",
       "    <tr>\n",
       "      <th>4</th>\n",
       "      <td>1</td>\n",
       "    </tr>\n",
       "  </tbody>\n",
       "</table>\n",
       "</div>"
      ],
      "text/plain": [
       "   HAS_TOTAL_MEALS_ORDERED\n",
       "0                        0\n",
       "1                        1\n",
       "2                        0\n",
       "3                        0\n",
       "4                        1"
      ]
     },
     "execution_count": 9,
     "metadata": {},
     "output_type": "execute_result"
    }
   ],
   "source": [
    "df['HAS_TOTAL_MEALS_ORDERED']               = 0\n",
    "\n",
    "for index, value in df.iterrows():\n",
    "    \n",
    "    # TOTAL_PHOTOS_VIEWED\n",
    "    if df.loc[index, 'TOTAL_MEALS_ORDERED'] >= 20:\n",
    "        df.loc[index, 'HAS_TOTAL_MEALS_ORDERED'] = 1\n",
    "\n",
    "df[['HAS_TOTAL_MEALS_ORDERED']].head()"
   ]
  },
  {
   "cell_type": "markdown",
   "metadata": {},
   "source": [
    "## Log transformed variables"
   ]
  },
  {
   "cell_type": "code",
   "execution_count": 10,
   "metadata": {
    "deletable": false,
    "editable": false
   },
   "outputs": [
    {
     "data": {
      "image/png": "[encoded data removed]",
      "text/plain": [
       "<Figure size 720x360 with 1 Axes>"
      ]
     },
     "metadata": {
      "needs_background": "light"
     },
     "output_type": "display_data"
    }
   ],
   "source": [
    "# developing a histogram using DISPLOT\n",
    "sns.displot(data   = df,\n",
    "            x      = df.loc[:,'TOTAL_MEALS_ORDERED'],\n",
    "            height = 5,\n",
    "            aspect = 2)\n",
    "\n",
    "\n",
    "# displaying the histogram\n",
    "plt.show()\n",
    "\n",
    "#It is skewed (positive)"
   ]
  },
  {
   "cell_type": "code",
   "execution_count": 11,
   "metadata": {
    "deletable": false,
    "editable": false
   },
   "outputs": [
    {
     "data": {
      "text/html": [
       "<div>\n",
       "<style scoped>\n",
       "    .dataframe tbody tr th:only-of-type {\n",
       "        vertical-align: middle;\n",
       "    }\n",
       "\n",
       "    .dataframe tbody tr th {\n",
       "        vertical-align: top;\n",
       "    }\n",
       "\n",
       "    .dataframe thead th {\n",
       "        text-align: right;\n",
       "    }\n",
       "</style>\n",
       "<table border=\"1\" class=\"dataframe\">\n",
       "  <thead>\n",
       "    <tr style=\"text-align: right;\">\n",
       "      <th></th>\n",
       "      <th>REVENUE</th>\n",
       "      <th>log_REVENUE</th>\n",
       "    </tr>\n",
       "  </thead>\n",
       "  <tbody>\n",
       "    <tr>\n",
       "      <th>TOTAL_MEALS_ORDERED</th>\n",
       "      <td>0.60</td>\n",
       "      <td>0.61</td>\n",
       "    </tr>\n",
       "    <tr>\n",
       "      <th>log_TOTAL_MEALS_ORDERED</th>\n",
       "      <td>0.61</td>\n",
       "      <td>0.69</td>\n",
       "    </tr>\n",
       "  </tbody>\n",
       "</table>\n",
       "</div>"
      ],
      "text/plain": [
       "                         REVENUE  log_REVENUE\n",
       "TOTAL_MEALS_ORDERED         0.60         0.61\n",
       "log_TOTAL_MEALS_ORDERED     0.61         0.69"
      ]
     },
     "execution_count": 11,
     "metadata": {},
     "output_type": "execute_result"
    }
   ],
   "source": [
    "#log transformation\n",
    "df['log_TOTAL_MEALS_ORDERED'] = np.log10(df['TOTAL_MEALS_ORDERED'])\n",
    "\n",
    "#Check correlation with y-variable and log(y) \n",
    "log_corr = df.loc[ : , ['TOTAL_MEALS_ORDERED',\n",
    "                        'log_TOTAL_MEALS_ORDERED',\n",
    "                        'REVENUE',\n",
    "                        'log_REVENUE']  ].corr(method = 'pearson')\\\n",
    "                                                 .round(decimals = 2)\n",
    "\n",
    "\n",
    "#results\n",
    "log_corr.loc[ ['TOTAL_MEALS_ORDERED', 'log_TOTAL_MEALS_ORDERED'],\n",
    "              ['REVENUE', 'log_REVENUE']   ]"
   ]
  },
  {
   "cell_type": "code",
   "execution_count": 12,
   "metadata": {
    "deletable": false,
    "editable": false
   },
   "outputs": [
    {
     "data": {
      "text/html": [
       "<div>\n",
       "<style scoped>\n",
       "    .dataframe tbody tr th:only-of-type {\n",
       "        vertical-align: middle;\n",
       "    }\n",
       "\n",
       "    .dataframe tbody tr th {\n",
       "        vertical-align: top;\n",
       "    }\n",
       "\n",
       "    .dataframe thead th {\n",
       "        text-align: right;\n",
       "    }\n",
       "</style>\n",
       "<table border=\"1\" class=\"dataframe\">\n",
       "  <thead>\n",
       "    <tr style=\"text-align: right;\">\n",
       "      <th></th>\n",
       "      <th>REVENUE</th>\n",
       "      <th>log_REVENUE</th>\n",
       "    </tr>\n",
       "  </thead>\n",
       "  <tbody>\n",
       "    <tr>\n",
       "      <th>AVG_TIME_PER_SITE_VISIT</th>\n",
       "      <td>0.14</td>\n",
       "      <td>0.14</td>\n",
       "    </tr>\n",
       "    <tr>\n",
       "      <th>log_AVG_TIME_PER_SITE_VISIT</th>\n",
       "      <td>0.15</td>\n",
       "      <td>0.15</td>\n",
       "    </tr>\n",
       "  </tbody>\n",
       "</table>\n",
       "</div>"
      ],
      "text/plain": [
       "                             REVENUE  log_REVENUE\n",
       "AVG_TIME_PER_SITE_VISIT         0.14         0.14\n",
       "log_AVG_TIME_PER_SITE_VISIT     0.15         0.15"
      ]
     },
     "execution_count": 12,
     "metadata": {},
     "output_type": "execute_result"
    }
   ],
   "source": [
    "#log transformation\n",
    "df['log_AVG_TIME_PER_SITE_VISIT'] = np.log10(df['AVG_TIME_PER_SITE_VISIT'])\n",
    "\n",
    "\n",
    "#Check correlation with y-variable and log(y)\n",
    "log_corr = df.loc[ : , ['AVG_TIME_PER_SITE_VISIT',\n",
    "                        'log_AVG_TIME_PER_SITE_VISIT',\n",
    "                        'REVENUE',\n",
    "                        'log_REVENUE']  ].corr(method = 'pearson')\\\n",
    "                                                 .round(decimals = 2)\n",
    "\n",
    "\n",
    "# Results\n",
    "log_corr.loc[ ['AVG_TIME_PER_SITE_VISIT', 'log_AVG_TIME_PER_SITE_VISIT'],\n",
    "              ['REVENUE', 'log_REVENUE']   ]"
   ]
  },
  {
   "cell_type": "code",
   "execution_count": 13,
   "metadata": {
    "deletable": false,
    "editable": false
   },
   "outputs": [
    {
     "data": {
      "text/html": [
       "<div>\n",
       "<style scoped>\n",
       "    .dataframe tbody tr th:only-of-type {\n",
       "        vertical-align: middle;\n",
       "    }\n",
       "\n",
       "    .dataframe tbody tr th {\n",
       "        vertical-align: top;\n",
       "    }\n",
       "\n",
       "    .dataframe thead th {\n",
       "        text-align: right;\n",
       "    }\n",
       "</style>\n",
       "<table border=\"1\" class=\"dataframe\">\n",
       "  <thead>\n",
       "    <tr style=\"text-align: right;\">\n",
       "      <th></th>\n",
       "      <th>REVENUE</th>\n",
       "      <th>log_REVENUE</th>\n",
       "    </tr>\n",
       "  </thead>\n",
       "  <tbody>\n",
       "    <tr>\n",
       "      <th>UNIQUE_MEALS_PURCH</th>\n",
       "      <td>-0.06</td>\n",
       "      <td>-0.08</td>\n",
       "    </tr>\n",
       "    <tr>\n",
       "      <th>log_UNIQUE_MEALS_PURCH</th>\n",
       "      <td>-0.12</td>\n",
       "      <td>-0.13</td>\n",
       "    </tr>\n",
       "  </tbody>\n",
       "</table>\n",
       "</div>"
      ],
      "text/plain": [
       "                        REVENUE  log_REVENUE\n",
       "UNIQUE_MEALS_PURCH        -0.06        -0.08\n",
       "log_UNIQUE_MEALS_PURCH    -0.12        -0.13"
      ]
     },
     "execution_count": 13,
     "metadata": {},
     "output_type": "execute_result"
    }
   ],
   "source": [
    "#Log transformation\n",
    "df['log_UNIQUE_MEALS_PURCH'] = np.log10(df['UNIQUE_MEALS_PURCH'])\n",
    "\n",
    "#Check correlation with y-variable and log(y)\n",
    "log_corr = df.loc[ : , ['UNIQUE_MEALS_PURCH',\n",
    "                        'log_UNIQUE_MEALS_PURCH',\n",
    "                        'REVENUE',\n",
    "                        'log_REVENUE']  ].corr(method = 'pearson')\\\n",
    "                                                 .round(decimals = 2)\n",
    "\n",
    "\n",
    "#Results\n",
    "log_corr.loc[ ['UNIQUE_MEALS_PURCH', 'log_UNIQUE_MEALS_PURCH'],\n",
    "              ['REVENUE', 'log_REVENUE']   ]"
   ]
  },
  {
   "cell_type": "code",
   "execution_count": 14,
   "metadata": {
    "deletable": false,
    "editable": false
   },
   "outputs": [
    {
     "data": {
      "text/html": [
       "<div>\n",
       "<style scoped>\n",
       "    .dataframe tbody tr th:only-of-type {\n",
       "        vertical-align: middle;\n",
       "    }\n",
       "\n",
       "    .dataframe tbody tr th {\n",
       "        vertical-align: top;\n",
       "    }\n",
       "\n",
       "    .dataframe thead th {\n",
       "        text-align: right;\n",
       "    }\n",
       "</style>\n",
       "<table border=\"1\" class=\"dataframe\">\n",
       "  <thead>\n",
       "    <tr style=\"text-align: right;\">\n",
       "      <th></th>\n",
       "      <th>REVENUE</th>\n",
       "      <th>log_REVENUE</th>\n",
       "    </tr>\n",
       "  </thead>\n",
       "  <tbody>\n",
       "    <tr>\n",
       "      <th>CONTACTS_W_CUSTOMER_SERVICE</th>\n",
       "      <td>0.10</td>\n",
       "      <td>-0.04</td>\n",
       "    </tr>\n",
       "    <tr>\n",
       "      <th>log_CONTACTS_W_CUSTOMER_SERVICE</th>\n",
       "      <td>0.17</td>\n",
       "      <td>0.05</td>\n",
       "    </tr>\n",
       "  </tbody>\n",
       "</table>\n",
       "</div>"
      ],
      "text/plain": [
       "                                 REVENUE  log_REVENUE\n",
       "CONTACTS_W_CUSTOMER_SERVICE         0.10        -0.04\n",
       "log_CONTACTS_W_CUSTOMER_SERVICE     0.17         0.05"
      ]
     },
     "execution_count": 14,
     "metadata": {},
     "output_type": "execute_result"
    }
   ],
   "source": [
    "#Log transformations\n",
    "df['log_CONTACTS_W_CUSTOMER_SERVICE'] = np.log10(df['CONTACTS_W_CUSTOMER_SERVICE'])\n",
    "\n",
    "#Check correlation with y-variable and log(y)\n",
    "log_corr = df.loc[ : , ['CONTACTS_W_CUSTOMER_SERVICE',\n",
    "                        'log_CONTACTS_W_CUSTOMER_SERVICE',\n",
    "                        'REVENUE',\n",
    "                        'log_REVENUE']  ].corr(method = 'pearson')\\\n",
    "                                                 .round(decimals = 2)\n",
    "\n",
    "\n",
    "#Results\n",
    "log_corr.loc[ ['CONTACTS_W_CUSTOMER_SERVICE', 'log_CONTACTS_W_CUSTOMER_SERVICE'],\n",
    "              ['REVENUE', 'log_REVENUE']   ]"
   ]
  },
  {
   "cell_type": "code",
   "execution_count": 15,
   "metadata": {
    "deletable": false,
    "editable": false
   },
   "outputs": [
    {
     "data": {
      "text/html": [
       "<div>\n",
       "<style scoped>\n",
       "    .dataframe tbody tr th:only-of-type {\n",
       "        vertical-align: middle;\n",
       "    }\n",
       "\n",
       "    .dataframe tbody tr th {\n",
       "        vertical-align: top;\n",
       "    }\n",
       "\n",
       "    .dataframe thead th {\n",
       "        text-align: right;\n",
       "    }\n",
       "</style>\n",
       "<table border=\"1\" class=\"dataframe\">\n",
       "  <thead>\n",
       "    <tr style=\"text-align: right;\">\n",
       "      <th></th>\n",
       "      <th>REVENUE</th>\n",
       "      <th>log_REVENUE</th>\n",
       "    </tr>\n",
       "  </thead>\n",
       "  <tbody>\n",
       "    <tr>\n",
       "      <th>PRODUCT_CATEGORIES_VIEWED</th>\n",
       "      <td>0.03</td>\n",
       "      <td>0.04</td>\n",
       "    </tr>\n",
       "    <tr>\n",
       "      <th>log_PRODUCT_CATEGORIES_VIEWED</th>\n",
       "      <td>0.01</td>\n",
       "      <td>0.01</td>\n",
       "    </tr>\n",
       "  </tbody>\n",
       "</table>\n",
       "</div>"
      ],
      "text/plain": [
       "                               REVENUE  log_REVENUE\n",
       "PRODUCT_CATEGORIES_VIEWED         0.03         0.04\n",
       "log_PRODUCT_CATEGORIES_VIEWED     0.01         0.01"
      ]
     },
     "execution_count": 15,
     "metadata": {},
     "output_type": "execute_result"
    }
   ],
   "source": [
    "#Log transformation\n",
    "df['log_PRODUCT_CATEGORIES_VIEWED'] = np.log10(df['PRODUCT_CATEGORIES_VIEWED'])\n",
    "\n",
    "#Check correlation with y-variable and log(y)\n",
    "log_corr = df.loc[ : , ['PRODUCT_CATEGORIES_VIEWED',\n",
    "                        'log_PRODUCT_CATEGORIES_VIEWED',\n",
    "                        'REVENUE',\n",
    "                        'log_REVENUE']  ].corr(method = 'pearson')\\\n",
    "                                                 .round(decimals = 2)\n",
    "\n",
    "\n",
    "#Results\n",
    "log_corr.loc[ ['PRODUCT_CATEGORIES_VIEWED', 'log_PRODUCT_CATEGORIES_VIEWED'],\n",
    "              ['REVENUE', 'log_REVENUE']   ]"
   ]
  },
  {
   "cell_type": "code",
   "execution_count": 16,
   "metadata": {
    "deletable": false,
    "editable": false
   },
   "outputs": [
    {
     "data": {
      "text/html": [
       "<div>\n",
       "<style scoped>\n",
       "    .dataframe tbody tr th:only-of-type {\n",
       "        vertical-align: middle;\n",
       "    }\n",
       "\n",
       "    .dataframe tbody tr th {\n",
       "        vertical-align: top;\n",
       "    }\n",
       "\n",
       "    .dataframe thead th {\n",
       "        text-align: right;\n",
       "    }\n",
       "</style>\n",
       "<table border=\"1\" class=\"dataframe\">\n",
       "  <thead>\n",
       "    <tr style=\"text-align: right;\">\n",
       "      <th></th>\n",
       "      <th>REVENUE</th>\n",
       "      <th>log_REVENUE</th>\n",
       "    </tr>\n",
       "  </thead>\n",
       "  <tbody>\n",
       "    <tr>\n",
       "      <th>PC_LOGINS</th>\n",
       "      <td>0.02</td>\n",
       "      <td>0.01</td>\n",
       "    </tr>\n",
       "    <tr>\n",
       "      <th>log_PC_LOGINS</th>\n",
       "      <td>0.01</td>\n",
       "      <td>0.01</td>\n",
       "    </tr>\n",
       "  </tbody>\n",
       "</table>\n",
       "</div>"
      ],
      "text/plain": [
       "               REVENUE  log_REVENUE\n",
       "PC_LOGINS         0.02         0.01\n",
       "log_PC_LOGINS     0.01         0.01"
      ]
     },
     "execution_count": 16,
     "metadata": {},
     "output_type": "execute_result"
    }
   ],
   "source": [
    "#Log transformation\n",
    "df['log_PC_LOGINS'] = np.log10(df['PC_LOGINS'])\n",
    "\n",
    "#Check correlation with y-variable and log(y)\n",
    "log_corr = df.loc[ : , ['PC_LOGINS',\n",
    "                        'log_PC_LOGINS',\n",
    "                        'REVENUE',\n",
    "                        'log_REVENUE']  ].corr(method = 'pearson')\\\n",
    "                                                 .round(decimals = 2)\n",
    "\n",
    "\n",
    "#Results\n",
    "log_corr.loc[ ['PC_LOGINS', 'log_PC_LOGINS'],\n",
    "              ['REVENUE', 'log_REVENUE']   ]"
   ]
  },
  {
   "cell_type": "code",
   "execution_count": 17,
   "metadata": {
    "deletable": false,
    "editable": false
   },
   "outputs": [
    {
     "data": {
      "text/html": [
       "<div>\n",
       "<style scoped>\n",
       "    .dataframe tbody tr th:only-of-type {\n",
       "        vertical-align: middle;\n",
       "    }\n",
       "\n",
       "    .dataframe tbody tr th {\n",
       "        vertical-align: top;\n",
       "    }\n",
       "\n",
       "    .dataframe thead th {\n",
       "        text-align: right;\n",
       "    }\n",
       "</style>\n",
       "<table border=\"1\" class=\"dataframe\">\n",
       "  <thead>\n",
       "    <tr style=\"text-align: right;\">\n",
       "      <th></th>\n",
       "      <th>REVENUE</th>\n",
       "      <th>log_REVENUE</th>\n",
       "    </tr>\n",
       "  </thead>\n",
       "  <tbody>\n",
       "    <tr>\n",
       "      <th>LARGEST_ORDER_SIZE</th>\n",
       "      <td>0.44</td>\n",
       "      <td>0.45</td>\n",
       "    </tr>\n",
       "    <tr>\n",
       "      <th>log_LARGEST_ORDER_SIZE</th>\n",
       "      <td>0.42</td>\n",
       "      <td>0.45</td>\n",
       "    </tr>\n",
       "  </tbody>\n",
       "</table>\n",
       "</div>"
      ],
      "text/plain": [
       "                        REVENUE  log_REVENUE\n",
       "LARGEST_ORDER_SIZE         0.44         0.45\n",
       "log_LARGEST_ORDER_SIZE     0.42         0.45"
      ]
     },
     "execution_count": 17,
     "metadata": {},
     "output_type": "execute_result"
    }
   ],
   "source": [
    "#Log transformation\n",
    "df['log_LARGEST_ORDER_SIZE'] = np.log10(df['LARGEST_ORDER_SIZE'])\n",
    "\n",
    "#Check correlation with y-variable and log(y)\n",
    "log_corr = df.loc[ : , ['LARGEST_ORDER_SIZE',\n",
    "                        'log_LARGEST_ORDER_SIZE',\n",
    "                        'REVENUE',\n",
    "                        'log_REVENUE']  ].corr(method = 'pearson')\\\n",
    "                                                 .round(decimals = 2)\n",
    "\n",
    "\n",
    "#Results\n",
    "log_corr.loc[ ['LARGEST_ORDER_SIZE', 'log_LARGEST_ORDER_SIZE'],\n",
    "              ['REVENUE', 'log_REVENUE']   ]"
   ]
  },
  {
   "cell_type": "code",
   "execution_count": 18,
   "metadata": {
    "deletable": false,
    "editable": false
   },
   "outputs": [
    {
     "data": {
      "text/html": [
       "<div>\n",
       "<style scoped>\n",
       "    .dataframe tbody tr th:only-of-type {\n",
       "        vertical-align: middle;\n",
       "    }\n",
       "\n",
       "    .dataframe tbody tr th {\n",
       "        vertical-align: top;\n",
       "    }\n",
       "\n",
       "    .dataframe thead th {\n",
       "        text-align: right;\n",
       "    }\n",
       "</style>\n",
       "<table border=\"1\" class=\"dataframe\">\n",
       "  <thead>\n",
       "    <tr style=\"text-align: right;\">\n",
       "      <th></th>\n",
       "      <th>REVENUE</th>\n",
       "      <th>log_REVENUE</th>\n",
       "    </tr>\n",
       "  </thead>\n",
       "  <tbody>\n",
       "    <tr>\n",
       "      <th>MEDIAN_MEAL_RATING</th>\n",
       "      <td>0.61</td>\n",
       "      <td>0.65</td>\n",
       "    </tr>\n",
       "    <tr>\n",
       "      <th>log_MEDIAN_MEAL_RATING</th>\n",
       "      <td>0.55</td>\n",
       "      <td>0.61</td>\n",
       "    </tr>\n",
       "  </tbody>\n",
       "</table>\n",
       "</div>"
      ],
      "text/plain": [
       "                        REVENUE  log_REVENUE\n",
       "MEDIAN_MEAL_RATING         0.61         0.65\n",
       "log_MEDIAN_MEAL_RATING     0.55         0.61"
      ]
     },
     "execution_count": 18,
     "metadata": {},
     "output_type": "execute_result"
    }
   ],
   "source": [
    "#Log transformation\n",
    "df['log_MEDIAN_MEAL_RATING'] = np.log10(df['MEDIAN_MEAL_RATING'])\n",
    "\n",
    "#Check correlation with y-variable and log(y)\n",
    "log_corr = df.loc[ : , ['MEDIAN_MEAL_RATING',\n",
    "                        'log_MEDIAN_MEAL_RATING',\n",
    "                        'REVENUE',\n",
    "                        'log_REVENUE']  ].corr(method = 'pearson')\\\n",
    "                                                 .round(decimals = 2)\n",
    "\n",
    "\n",
    "#results\n",
    "log_corr.loc[ ['MEDIAN_MEAL_RATING', 'log_MEDIAN_MEAL_RATING'],\n",
    "              ['REVENUE', 'log_REVENUE']   ]"
   ]
  },
  {
   "cell_type": "code",
   "execution_count": 19,
   "metadata": {
    "deletable": false,
    "editable": false
   },
   "outputs": [
    {
     "data": {
      "image/png": "[encoded data removed]",
      "text/plain": [
       "<Figure size 720x360 with 1 Axes>"
      ]
     },
     "metadata": {
      "needs_background": "light"
     },
     "output_type": "display_data"
    }
   ],
   "source": [
    "# developing a histogram using DISPLOT\n",
    "sns.displot(data   = df,\n",
    "            x      = df.loc[:,'AVG_CLICKS_PER_VISIT'],\n",
    "            height = 5,\n",
    "            aspect = 2)\n",
    "\n",
    "\n",
    "# displaying the histogram\n",
    "plt.show()\n",
    "\n",
    "#It is skewed (negative)"
   ]
  },
  {
   "cell_type": "code",
   "execution_count": 20,
   "metadata": {
    "deletable": false,
    "editable": false
   },
   "outputs": [
    {
     "data": {
      "text/html": [
       "<div>\n",
       "<style scoped>\n",
       "    .dataframe tbody tr th:only-of-type {\n",
       "        vertical-align: middle;\n",
       "    }\n",
       "\n",
       "    .dataframe tbody tr th {\n",
       "        vertical-align: top;\n",
       "    }\n",
       "\n",
       "    .dataframe thead th {\n",
       "        text-align: right;\n",
       "    }\n",
       "</style>\n",
       "<table border=\"1\" class=\"dataframe\">\n",
       "  <thead>\n",
       "    <tr style=\"text-align: right;\">\n",
       "      <th></th>\n",
       "      <th>REVENUE</th>\n",
       "      <th>log_REVENUE</th>\n",
       "    </tr>\n",
       "  </thead>\n",
       "  <tbody>\n",
       "    <tr>\n",
       "      <th>AVG_CLICKS_PER_VISIT</th>\n",
       "      <td>-0.55</td>\n",
       "      <td>-0.58</td>\n",
       "    </tr>\n",
       "    <tr>\n",
       "      <th>log_AVG_CLICKS_PER_VISIT</th>\n",
       "      <td>-0.56</td>\n",
       "      <td>-0.58</td>\n",
       "    </tr>\n",
       "  </tbody>\n",
       "</table>\n",
       "</div>"
      ],
      "text/plain": [
       "                          REVENUE  log_REVENUE\n",
       "AVG_CLICKS_PER_VISIT        -0.55        -0.58\n",
       "log_AVG_CLICKS_PER_VISIT    -0.56        -0.58"
      ]
     },
     "execution_count": 20,
     "metadata": {},
     "output_type": "execute_result"
    }
   ],
   "source": [
    "#Log transformation\n",
    "df['log_AVG_CLICKS_PER_VISIT'] = np.log10(df['AVG_CLICKS_PER_VISIT'])\n",
    "\n",
    "#Check correlation with y-variable and log(y)\n",
    "log_corr = df.loc[ : , ['AVG_CLICKS_PER_VISIT',\n",
    "                        'log_AVG_CLICKS_PER_VISIT',\n",
    "                        'REVENUE',\n",
    "                        'log_REVENUE']  ].corr(method = 'pearson')\\\n",
    "                                                 .round(decimals = 2)\n",
    "\n",
    "\n",
    "#Results\n",
    "log_corr.loc[ ['AVG_CLICKS_PER_VISIT', 'log_AVG_CLICKS_PER_VISIT'],\n",
    "              ['REVENUE', 'log_REVENUE']   ]"
   ]
  },
  {
   "cell_type": "markdown",
   "metadata": {},
   "source": [
    "## Categorical variables"
   ]
  },
  {
   "cell_type": "markdown",
   "metadata": {},
   "source": [
    "### Binning Rating and get dummy"
   ]
  },
  {
   "cell_type": "code",
   "execution_count": 21,
   "metadata": {
    "deletable": false,
    "editable": false
   },
   "outputs": [],
   "source": [
    "#Numerical Binning \n",
    "df['bin_rating'] = pd.cut(df['MEDIAN_MEAL_RATING'], bins=[0,1,2,3,4,5],\\\n",
    "                   labels=[\"Very_Bad\",\"Bad\", \"OK\", \"Good\", \"Very_Good\"])\n",
    "\n",
    "# Prepare the data (code it into number)\n",
    "# One hot encoding categorical variables\n",
    "one_hot_bin_rating     = pd.get_dummies(df['bin_rating'])\n",
    "\n",
    "# dropping categorical variables after they've been encoded\n",
    "df = df.drop('bin_rating', axis = 1)\n",
    "\n",
    "# joining codings together- appending new data into the dataset\n",
    "df = df.join([one_hot_bin_rating])\n",
    "\n",
    "# saving new columns\n",
    "new_columns = df.columns"
   ]
  },
  {
   "cell_type": "markdown",
   "metadata": {},
   "source": [
    "### Binning Attend Master Class and get dummy"
   ]
  },
  {
   "cell_type": "code",
   "execution_count": 22,
   "metadata": {
    "deletable": false,
    "editable": false
   },
   "outputs": [],
   "source": [
    "#Numerical Binning Example\n",
    "df['bin_attend_class'] = pd.cut(df['MASTER_CLASSES_ATTENDED'], bins=[-1,0,1,2,3],\\\n",
    "                   labels=[\"No_class\",\"Elementary\",\"Intermediate\", \"Advanced\"])\n",
    "\n",
    "#Prepare the data (code it into number)\n",
    "# one hot encoding categorical variables\n",
    "one_hot_bin_attend_class     = pd.get_dummies(df['bin_attend_class'])\n",
    "\n",
    "# dropping categorical variables after they've been encoded\n",
    "df = df.drop('bin_attend_class', axis = 1)\n",
    "\n",
    "# joining codings together- appending new data into the dataset\n",
    "df = df.join([one_hot_bin_attend_class])\n",
    "\n",
    "# saving new columns\n",
    "new_columns = df.columns"
   ]
  },
  {
   "cell_type": "markdown",
   "metadata": {},
   "source": [
    "### Email domain"
   ]
  },
  {
   "cell_type": "code",
   "execution_count": 23,
   "metadata": {
    "deletable": false,
    "editable": false
   },
   "outputs": [
    {
     "data": {
      "text/html": [
       "<div>\n",
       "<style scoped>\n",
       "    .dataframe tbody tr th:only-of-type {\n",
       "        vertical-align: middle;\n",
       "    }\n",
       "\n",
       "    .dataframe tbody tr th {\n",
       "        vertical-align: top;\n",
       "    }\n",
       "\n",
       "    .dataframe thead th {\n",
       "        text-align: right;\n",
       "    }\n",
       "</style>\n",
       "<table border=\"1\" class=\"dataframe\">\n",
       "  <thead>\n",
       "    <tr style=\"text-align: right;\">\n",
       "      <th></th>\n",
       "      <th>0</th>\n",
       "      <th>1</th>\n",
       "    </tr>\n",
       "  </thead>\n",
       "  <tbody>\n",
       "    <tr>\n",
       "      <th>0</th>\n",
       "      <td>saathos</td>\n",
       "      <td>unitedhealth.com</td>\n",
       "    </tr>\n",
       "    <tr>\n",
       "      <th>1</th>\n",
       "      <td>alysanne.osgrey</td>\n",
       "      <td>ge.org</td>\n",
       "    </tr>\n",
       "    <tr>\n",
       "      <th>2</th>\n",
       "      <td>edwyd.fossoway</td>\n",
       "      <td>jnj.com</td>\n",
       "    </tr>\n",
       "    <tr>\n",
       "      <th>3</th>\n",
       "      <td>eleyna.westerling</td>\n",
       "      <td>ge.org</td>\n",
       "    </tr>\n",
       "    <tr>\n",
       "      <th>4</th>\n",
       "      <td>elyn.norridge</td>\n",
       "      <td>jnj.com</td>\n",
       "    </tr>\n",
       "  </tbody>\n",
       "</table>\n",
       "</div>"
      ],
      "text/plain": [
       "                   0                 1\n",
       "0            saathos  unitedhealth.com\n",
       "1    alysanne.osgrey            ge.org\n",
       "2     edwyd.fossoway           jnj.com\n",
       "3  eleyna.westerling            ge.org\n",
       "4      elyn.norridge           jnj.com"
      ]
     },
     "execution_count": 23,
     "metadata": {},
     "output_type": "execute_result"
    }
   ],
   "source": [
    "# STEP 1: splitting emails\n",
    "\n",
    "# placeholder list\n",
    "placeholder_lst = []\n",
    "\n",
    "# looping over each email address\n",
    "for index, col in df.iterrows():\n",
    "    \n",
    "    # splitting email domain at '@'\n",
    "    split_email = df.loc[index, 'EMAIL'].split(sep = '@')\n",
    "    \n",
    "    # appending placeholder_lst with the results\n",
    "    placeholder_lst.append(split_email)\n",
    "    \n",
    "\n",
    "# converting placeholder_lst into a DataFrame \n",
    "email_df = pd.DataFrame(placeholder_lst)\n",
    "\n",
    "\n",
    "# displaying the results\n",
    "email_df.head()"
   ]
  },
  {
   "cell_type": "code",
   "execution_count": 24,
   "metadata": {
    "deletable": false,
    "editable": false
   },
   "outputs": [
    {
     "data": {
      "text/plain": [
       "gmail.com           303\n",
       "protonmail.com      284\n",
       "yahoo.com           274\n",
       "msn.com              72\n",
       "aol.com              69\n",
       "passport.com         64\n",
       "hotmail.com          63\n",
       "live.com             62\n",
       "me.com               59\n",
       "amex.com             30\n",
       "jnj.com              28\n",
       "mcdonalds.com        28\n",
       "merck.com            28\n",
       "cocacola.com         28\n",
       "nike.com             27\n",
       "apple.com            27\n",
       "ge.org               26\n",
       "dupont.com           26\n",
       "ibm.com              26\n",
       "microsoft.com        25\n",
       "chevron.com          25\n",
       "exxon.com            24\n",
       "unitedhealth.com     24\n",
       "travelers.com        24\n",
       "boeing.com           23\n",
       "mmm.com              22\n",
       "verizon.com          22\n",
       "caterpillar.com      22\n",
       "pg.com               22\n",
       "disney.com           21\n",
       "walmart.com          21\n",
       "pfizer.com           20\n",
       "visa.com             20\n",
       "jpmorgan.com         19\n",
       "goldmansacs.com      18\n",
       "unitedtech.com       18\n",
       "cisco.com            18\n",
       "intel.com            17\n",
       "homedepot.com        17\n",
       "Name: email_domain, dtype: int64"
      ]
     },
     "execution_count": 24,
     "metadata": {},
     "output_type": "execute_result"
    }
   ],
   "source": [
    "# STEP 2: concatenating with original DataFrame\n",
    "\n",
    "# renaming column to concatenate\n",
    "email_df.columns = ['user_name','email_domain']\n",
    "\n",
    "\n",
    "# concatenating personal_email_domain with df DataFrame\n",
    "df = pd.concat([df, email_df['email_domain']],\n",
    "                        axis = 1)\n",
    "\n",
    "\n",
    "# printing value counts of email_domain\n",
    "df.loc[: ,'email_domain'].value_counts()"
   ]
  },
  {
   "cell_type": "code",
   "execution_count": 25,
   "metadata": {
    "deletable": false,
    "editable": false
   },
   "outputs": [
    {
     "data": {
      "text/plain": [
       "personal        861\n",
       "professional    696\n",
       "junk            389\n",
       "Name: domain_group, dtype: int64"
      ]
     },
     "execution_count": 25,
     "metadata": {},
     "output_type": "execute_result"
    }
   ],
   "source": [
    "# email domain types (based on the case)\n",
    "personal            = [     '@gmail.com', '@protonmail.com','@yahoo.com']\n",
    "\n",
    "junk                = [     '@msn.com'          ,          \n",
    "                            '@aol.com'          ,          \n",
    "                            '@passport.com'     ,         \n",
    "                            '@hotmail.com'      ,         \n",
    "                            '@live.com'         ,         \n",
    "                            '@me.com']\n",
    "\n",
    "professional  =   [         '@amex.com',             \n",
    "                            '@merck.com'       ,   \n",
    "                            '@cocacola.com'    ,       \n",
    "                            '@jnj.com'         ,     \n",
    "                            '@mcdonalds.com'   ,     \n",
    "                            '@nike.com'        ,     \n",
    "                            '@apple.com'       ,     \n",
    "                            '@dupont.com'      ,     \n",
    "                            '@ge.org'          ,     \n",
    "                            '@ibm.com'         ,    \n",
    "                            '@chevron.com'     ,     \n",
    "                            '@microsoft.com'   ,    \n",
    "                            '@unitedhealth.com',   \n",
    "                            '@travelers.com'   ,    \n",
    "                            '@exxon.com'       ,     \n",
    "                            '@boeing.com'      ,      \n",
    "                            '@verizon.com'     ,      \n",
    "                            '@mmm.com'         ,       \n",
    "                            '@caterpillar.com' ,     \n",
    "                            '@pg.com'          ,       \n",
    "                            '@walmart.com'     ,       \n",
    "                            '@disney.com'      ,        \n",
    "                            '@visa.com'        ,       \n",
    "                            '@pfizer.com'      ,       \n",
    "                            '@jpmorgan.com'    ,      \n",
    "                            '@goldmansacs.com' ,      \n",
    "                            '@unitedtech.com'  ,      \n",
    "                            '@cisco.com'       ,     \n",
    "                            '@intel.com'       ,       \n",
    "                            '@homedepot.com'   ]\n",
    "\n",
    "\n",
    "# placeholder list\n",
    "placeholder_lst = []\n",
    "\n",
    "\n",
    "# looping to group observations by domain type\n",
    "for domain in df['email_domain']:\n",
    "        if '@' + domain in personal:\n",
    "            placeholder_lst.append('personal')\n",
    "                  \n",
    "        elif '@' + domain in junk:\n",
    "            placeholder_lst.append('junk')\n",
    "        \n",
    "        elif '@' + domain in professional:\n",
    "            placeholder_lst.append('professional')\n",
    "            \n",
    "        else:\n",
    "            print('Unknown')\n",
    "\n",
    "\n",
    "# concatenating with original DataFrame\n",
    "df['domain_group'] = pd.Series(placeholder_lst)\n",
    "\n",
    "\n",
    "# checking results\n",
    "df['domain_group'].value_counts()"
   ]
  },
  {
   "cell_type": "code",
   "execution_count": 26,
   "metadata": {
    "deletable": false,
    "editable": false
   },
   "outputs": [],
   "source": [
    "#Prepare the data (code it into number)\n",
    "# one hot encoding categorical variables\n",
    "one_hot_domain       = pd.get_dummies(df['domain_group'])\n",
    "\n",
    "# dropping categorical variables after they've been encoded\n",
    "df = df.drop('domain_group', axis = 1)\n",
    "\n",
    "# joining codings together- appending new data into the dataset\n",
    "df = df.join([one_hot_domain])\n",
    "\n",
    "\n",
    "# saving new columns\n",
    "new_columns = df.columns"
   ]
  },
  {
   "cell_type": "markdown",
   "metadata": {},
   "source": [
    "### Gender guessor (optional)"
   ]
  },
  {
   "cell_type": "code",
   "execution_count": null,
   "metadata": {
    "deletable": false,
    "editable": false,
    "run_control": {
     "frozen": true
    }
   },
   "outputs": [],
   "source": [
    "%pip install gender_guesser"
   ]
  },
  {
   "cell_type": "code",
   "execution_count": null,
   "metadata": {
    "deletable": false,
    "editable": false,
    "run_control": {
     "frozen": true
    }
   },
   "outputs": [],
   "source": [
    "import random as rand # random number generation\n",
    "import pandas as pd   # data science essentials\n",
    "\n",
    "# New! (may need to be downloaded)\n",
    "import gender_guesser.detector as gender # guess gender based on (given) name"
   ]
  },
  {
   "cell_type": "code",
   "execution_count": null,
   "metadata": {
    "deletable": false,
    "editable": false,
    "run_control": {
     "frozen": true
    }
   },
   "outputs": [],
   "source": [
    "# instantiating an imputation value\n",
    "fill = 'Unknown'\n",
    "\n",
    "# imputing 'FAMILY_NAME'\n",
    "df['FAMILY_NAME'] = df['FAMILY_NAME'].fillna(fill)\n",
    "\n",
    "#check the result\n",
    "df.loc[: ,'FAMILY_NAME'].isnull().sum()"
   ]
  },
  {
   "cell_type": "code",
   "execution_count": null,
   "metadata": {
    "deletable": false,
    "editable": false,
    "run_control": {
     "frozen": true
    }
   },
   "outputs": [],
   "source": [
    "#package for gender guesser\n",
    "import gender_guesser.detector as gender\n",
    "d = gender.Detector()\n",
    "\n",
    "family_names = []\n",
    "for i in range(0,1946):\n",
    "    name = str(df['FAMILY_NAME'].values[i])\n",
    "    family_names.append(name)\n",
    "\n",
    "# gender list\n",
    "genders = []\n",
    "\n",
    "#looping to guess gender\n",
    "#Using if statement for faster process\n",
    "for i in family_names[0:len(family_names)]:\n",
    "    if d.get_gender(i) == 'male':\n",
    "        genders.append('male')\n",
    "    elif d.get_gender(i) == 'female':\n",
    "        genders.append('female')\n",
    "    else:\n",
    "        genders.append('unknown')\n",
    "\n",
    "# converting list into a series\n",
    "df['gender_guess'] = pd.Series(genders)\n",
    "\n",
    "df['gender_guess'].value_counts()"
   ]
  },
  {
   "cell_type": "code",
   "execution_count": null,
   "metadata": {
    "deletable": false,
    "editable": false,
    "run_control": {
     "frozen": true
    }
   },
   "outputs": [],
   "source": [
    "#Prepare the data (code it into number)\n",
    "# one hot encoding categorical variables\n",
    "one_hot_gender       = pd.get_dummies(df['gender_guess'])\n",
    "\n",
    "# dropping categorical variables after they've been encoded\n",
    "df = df.drop('gender_guess', axis = 1)\n",
    "\n",
    "# joining codings together- appending new data into the dataset\n",
    "df = df.join([one_hot_gender])\n",
    "\n",
    "# saving new columns\n",
    "new_columns = df.columns"
   ]
  },
  {
   "cell_type": "markdown",
   "metadata": {},
   "source": [
    "# MODELLING"
   ]
  },
  {
   "cell_type": "markdown",
   "metadata": {},
   "source": [
    "## Prepare training and testing sets"
   ]
  },
  {
   "cell_type": "markdown",
   "metadata": {},
   "source": [
    "### Data with normal y-variable"
   ]
  },
  {
   "cell_type": "code",
   "execution_count": 27,
   "metadata": {
    "deletable": false,
    "editable": false
   },
   "outputs": [
    {
     "name": "stdout",
     "output_type": "stream",
     "text": [
      "\n",
      "Training Data\n",
      "-------------\n",
      "X-side: (1459, 52)\n",
      "y-side: (1459,)\n",
      "\n",
      "\n",
      "Testing Data\n",
      "------------\n",
      "X-side: (487, 52)\n",
      "y-side: (487,)\n",
      "\n"
     ]
    }
   ],
   "source": [
    "# preparing explanatory variable data\n",
    "df_data   = df.drop(['REVENUE',\n",
    "                    'log_REVENUE',\n",
    "                    'NAME', \n",
    "                    'EMAIL', \n",
    "                    'FIRST_NAME', \n",
    "                    'FAMILY_NAME',\n",
    "                    'email_domain'], axis = 1)\n",
    "\n",
    "\n",
    "# preparing response variables\n",
    "df_target =df.loc[ : , 'REVENUE']\n",
    "log_df_target =df.loc[ : , 'log_REVENUE']\n",
    "\n",
    "\n",
    "# preparing training and testing sets \n",
    "x_train, x_test, y_train, y_test = train_test_split(\n",
    "                                                    df_data,\n",
    "                                                    df_target,\n",
    "                                                    test_size = 0.25,\n",
    "                                                    random_state = 219)\n",
    "\n",
    "# checking the shapes of the datasets\n",
    "print(f\"\"\"\n",
    "Training Data\n",
    "-------------\n",
    "X-side: {x_train.shape}\n",
    "y-side: {y_train.shape}\n",
    "\n",
    "\n",
    "Testing Data\n",
    "------------\n",
    "X-side: {x_test.shape}\n",
    "y-side: {y_test.shape}\n",
    "\"\"\")\n"
   ]
  },
  {
   "cell_type": "markdown",
   "metadata": {},
   "source": [
    "### Data with transformed y-variable"
   ]
  },
  {
   "cell_type": "code",
   "execution_count": 28,
   "metadata": {
    "deletable": false,
    "editable": false
   },
   "outputs": [
    {
     "name": "stdout",
     "output_type": "stream",
     "text": [
      "\n",
      "Training Data\n",
      "-------------\n",
      "X-side: (1459, 52)\n",
      "y-side: (1459,)\n",
      "\n",
      "\n",
      "Testing Data\n",
      "------------\n",
      "X-side: (487, 52)\n",
      "y-side: (487,)\n",
      "\n"
     ]
    }
   ],
   "source": [
    "# preparing explanatory variable data\n",
    "df_data   = df.drop(['REVENUE',\n",
    "                    'log_REVENUE',\n",
    "                    'NAME', \n",
    "                    'EMAIL', \n",
    "                    'FIRST_NAME', \n",
    "                    'FAMILY_NAME',\n",
    "                    'email_domain'], axis = 1)\n",
    "\n",
    "\n",
    "# preparing response variables\n",
    "df_target =df.loc[ : , 'REVENUE']\n",
    "log_df_target =df.loc[ : , 'log_REVENUE']\n",
    "\n",
    "\n",
    "# preparing training and testing sets \n",
    "x_train_LOG, x_test_LOG, y_train_LOG, y_test_LOG = train_test_split(\n",
    "                                                    df_data,\n",
    "                                                    log_df_target,\n",
    "                                                    test_size = 0.25,\n",
    "                                                    random_state = 219)\n",
    "\n",
    "# checking the shapes of the datasets\n",
    "print(f\"\"\"\n",
    "Training Data\n",
    "-------------\n",
    "X-side: {x_train_LOG.shape}\n",
    "y-side: {y_train_LOG.shape}\n",
    "\n",
    "\n",
    "Testing Data\n",
    "------------\n",
    "X-side: {x_test_LOG.shape}\n",
    "y-side: {y_test_LOG.shape}\n",
    "\"\"\")"
   ]
  },
  {
   "cell_type": "markdown",
   "metadata": {},
   "source": [
    "## Ordinary Least Squares Regression"
   ]
  },
  {
   "cell_type": "markdown",
   "metadata": {},
   "source": [
    "### OLS on Full data with original y-variable"
   ]
  },
  {
   "cell_type": "code",
   "execution_count": 29,
   "metadata": {
    "deletable": false,
    "editable": false
   },
   "outputs": [
    {
     "name": "stdout",
     "output_type": "stream",
     "text": [
      "OLS Training Score : 0.7432\n",
      "OLS Testing Score  : 0.7646\n",
      "OLS Train-Test Gap : 0.0214\n"
     ]
    }
   ],
   "source": [
    "#FULL DATA\n",
    "# INSTANTIATING a model object\n",
    "lr = LinearRegression()\n",
    "\n",
    "\n",
    "# FITTING to the training data\n",
    "lr_fit = lr.fit(x_train, y_train)\n",
    "\n",
    "\n",
    "# PREDICTING on new data\n",
    "lr_pred = lr_fit.predict(x_test)\n",
    "\n",
    "lr_train_score = lr.score(x_train, y_train).round(4) # using R-square\n",
    "lr_test_score  = lr.score(x_test, y_test).round(4)   # using R-square\n",
    "\n",
    "# SCORING the results\n",
    "print('OLS Training Score :', lr_train_score)        # using R-square\n",
    "print('OLS Testing Score  :', lr_test_score)         # using R-square\n",
    "\n",
    "\n",
    "# displaying and saving the gap between training and testing\n",
    "print('OLS Train-Test Gap :', abs(lr_train_score - lr_test_score).round(4))\n",
    "lr_test_gap = abs(lr_train_score - lr_test_score).round(4)"
   ]
  },
  {
   "cell_type": "markdown",
   "metadata": {},
   "source": [
    "### OLS on Full data with transformed y variable\n",
    "- Final model"
   ]
  },
  {
   "cell_type": "code",
   "execution_count": 30,
   "metadata": {
    "deletable": false,
    "editable": false
   },
   "outputs": [
    {
     "name": "stdout",
     "output_type": "stream",
     "text": [
      "OLS Training Score : 0.7981\n",
      "OLS Testing Score  : 0.7987\n",
      "OLS Train-Test Gap : 0.0006\n"
     ]
    }
   ],
   "source": [
    "#FULL DATA\n",
    "# INSTANTIATING a model object\n",
    "lr = LinearRegression()\n",
    "\n",
    "\n",
    "# FITTING to the training data\n",
    "lr_fit = lr.fit(x_train_LOG, y_train_LOG)\n",
    "\n",
    "\n",
    "# PREDICTING on new data\n",
    "lr_pred = lr_fit.predict(x_test_LOG)\n",
    "\n",
    "lr_train_score = lr.score(x_train_LOG, y_train_LOG).round(4) # using R-square\n",
    "lr_test_score  = lr.score(x_test_LOG, y_test_LOG).round(4)   # using R-square\n",
    "\n",
    "# SCORING the results\n",
    "print('OLS Training Score :', lr_train_score)  # using R-square\n",
    "print('OLS Testing Score  :', lr_test_score) # using R-square\n",
    "\n",
    "# displaying and saving the gap between training and testing\n",
    "print('OLS Train-Test Gap :', abs(lr_train_score - lr_test_score).round(4))\n",
    "lr_test_gap = abs(lr_train_score - lr_test_score).round(4)"
   ]
  },
  {
   "cell_type": "markdown",
   "metadata": {},
   "source": [
    "## Coefficients"
   ]
  },
  {
   "cell_type": "code",
   "execution_count": 31,
   "metadata": {
    "deletable": false,
    "editable": false
   },
   "outputs": [
    {
     "name": "stdout",
     "output_type": "stream",
     "text": [
      "('intercept', 2.87)\n",
      "('CROSS_SELL_SUCCESS', -0.02)\n",
      "('TOTAL_MEALS_ORDERED', -0.0)\n",
      "('UNIQUE_MEALS_PURCH', 0.05)\n",
      "('CONTACTS_W_CUSTOMER_SERVICE', 0.02)\n",
      "('PRODUCT_CATEGORIES_VIEWED', 0.01)\n",
      "('AVG_TIME_PER_SITE_VISIT', 0.0)\n",
      "('MOBILE_NUMBER', 0.0)\n",
      "('CANCELLATIONS_BEFORE_NOON', 0.0)\n",
      "('CANCELLATIONS_AFTER_NOON', 0.01)\n",
      "('TASTES_AND_PREFERENCES', 0.01)\n",
      "('PC_LOGINS', 0.01)\n",
      "('MOBILE_LOGINS', -0.01)\n",
      "('WEEKLY_PLAN', 0.0)\n",
      "('EARLY_DELIVERIES', -0.0)\n",
      "('LATE_DELIVERIES', -0.0)\n",
      "('PACKAGE_LOCKER', -0.01)\n",
      "('REFRIGERATED_LOCKER', -0.01)\n",
      "('AVG_PREP_VID_TIME', 0.0)\n",
      "('LARGEST_ORDER_SIZE', -0.03)\n",
      "('MASTER_CLASSES_ATTENDED', -0.02)\n",
      "('MEDIAN_MEAL_RATING', 0.02)\n",
      "('AVG_CLICKS_PER_VISIT', 0.01)\n",
      "('TOTAL_PHOTOS_VIEWED', 0.0)\n",
      "('HAS_PHOTOS', 0.02)\n",
      "('HAS_CANCEL_BEFORE_NOON', 0.0)\n",
      "('HAS_CANCEL_AFTER_NOON', -0.02)\n",
      "('HAS_CLASS', 0.02)\n",
      "('HAS_WEEKLY_PLAN', -0.01)\n",
      "('HAS_EARLY_DELIVERY', 0.0)\n",
      "('HAS_LATE_DELIVERY', 0.0)\n",
      "('HAS_TOTAL_MEALS_ORDERED', 0.17)\n",
      "('log_TOTAL_MEALS_ORDERED', 0.25)\n",
      "('log_AVG_TIME_PER_SITE_VISIT', 0.0)\n",
      "('log_UNIQUE_MEALS_PURCH', -0.61)\n",
      "('log_CONTACTS_W_CUSTOMER_SERVICE', -0.02)\n",
      "('log_PRODUCT_CATEGORIES_VIEWED', -0.09)\n",
      "('log_PC_LOGINS', -0.15)\n",
      "('log_LARGEST_ORDER_SIZE', 0.2)\n",
      "('log_MEDIAN_MEAL_RATING', 0.01)\n",
      "('log_AVG_CLICKS_PER_VISIT', -0.46)\n",
      "('Very_Bad', -0.02)\n",
      "('Bad', -0.02)\n",
      "('OK', 0.0)\n",
      "('Good', 0.1)\n",
      "('Very_Good', -0.06)\n",
      "('No_class', -0.02)\n",
      "('Elementary', 0.01)\n",
      "('Intermediate', 0.06)\n",
      "('Advanced', -0.05)\n",
      "('junk', 0.0)\n",
      "('personal', 0.0)\n",
      "('professional', -0.0)\n"
     ]
    }
   ],
   "source": [
    "# zipping each feature name to its coefficient\n",
    "lr_model_values = zip(df_data.columns,\n",
    "                      lr_fit.coef_.round(decimals = 2))\n",
    "\n",
    "\n",
    "# setting up a placeholder list to store model features\n",
    "lr_model_lst = [('intercept', lr_fit.intercept_.round(decimals = 2))]\n",
    "\n",
    "\n",
    "# printing out each feature-coefficient pair one by one\n",
    "for val in lr_model_values:\n",
    "    lr_model_lst.append(val)\n",
    "    \n",
    "\n",
    "# checking the results\n",
    "for pair in lr_model_lst:\n",
    "    print(pair)"
   ]
  },
  {
   "cell_type": "markdown",
   "metadata": {},
   "source": [
    "# FINAL RESULT"
   ]
  },
  {
   "cell_type": "code",
   "execution_count": 32,
   "metadata": {
    "deletable": false,
    "editable": false
   },
   "outputs": [
    {
     "name": "stdout",
     "output_type": "stream",
     "text": [
      "\n",
      "Final Model      Train Score      Test Score        Train-Test gap\n",
      "-----------      -----------      ----------        ----------\n",
      "OLS (log(Y))     0.7981           0.7987             0.0006 \n",
      "\n",
      "\n"
     ]
    },
    {
     "data": {
      "text/html": [
       "<div>\n",
       "<style scoped>\n",
       "    .dataframe tbody tr th:only-of-type {\n",
       "        vertical-align: middle;\n",
       "    }\n",
       "\n",
       "    .dataframe tbody tr th {\n",
       "        vertical-align: top;\n",
       "    }\n",
       "\n",
       "    .dataframe thead th {\n",
       "        text-align: right;\n",
       "    }\n",
       "</style>\n",
       "<table border=\"1\" class=\"dataframe\">\n",
       "  <thead>\n",
       "    <tr style=\"text-align: right;\">\n",
       "      <th></th>\n",
       "      <th>Model Type</th>\n",
       "      <th>Training</th>\n",
       "      <th>Testing</th>\n",
       "      <th>Train-Test Gap</th>\n",
       "      <th>Model Size</th>\n",
       "      <th>Model</th>\n",
       "    </tr>\n",
       "  </thead>\n",
       "  <tbody>\n",
       "    <tr>\n",
       "      <th>0</th>\n",
       "      <td>Ordinary Least Squares Regression</td>\n",
       "      <td>0.7981</td>\n",
       "      <td>0.7987</td>\n",
       "      <td>0.0006</td>\n",
       "      <td>53</td>\n",
       "      <td>[('intercept', 2.87), ('CROSS_SELL_SUCCESS', -...</td>\n",
       "    </tr>\n",
       "  </tbody>\n",
       "</table>\n",
       "</div>"
      ],
      "text/plain": [
       "                          Model Type  Training  Testing  Train-Test Gap  Model Size                                              Model\n",
       "0  Ordinary Least Squares Regression    0.7981   0.7987          0.0006          53  [('intercept', 2.87), ('CROSS_SELL_SUCCESS', -..."
      ]
     },
     "execution_count": 32,
     "metadata": {},
     "output_type": "execute_result"
    }
   ],
   "source": [
    "# Final result\n",
    "print(f\"\"\"\n",
    "Final Model      Train Score      Test Score        Train-Test gap\n",
    "-----------      -----------      ----------        ----------\n",
    "OLS (log(Y))     {lr_train_score}           {lr_test_score}             {lr_test_gap} \n",
    "\n",
    "\"\"\")\n",
    "\n",
    "\n",
    "# creating a dictionary for final model result\n",
    "model_performance = {\n",
    "    \n",
    "    'Model Type'     : ['Ordinary Least Squares Regression'],\n",
    "           \n",
    "    'Training'       : [lr_train_score],\n",
    "           \n",
    "    'Testing'        : [lr_test_score],\n",
    "                    \n",
    "    'Train-Test Gap' : [lr_test_gap],\n",
    "                    \n",
    "    'Model Size'     : [len(lr_model_lst)],\n",
    "                    \n",
    "    'Model'          : [lr_model_lst]}\n",
    "\n",
    "\n",
    "# converting model_performance into a DataFrame\n",
    "model_performance = pd.DataFrame(model_performance)\n",
    "\n",
    "# sending model results to Excel\n",
    "model_performance.to_excel('linear_model_performance.xlsx',\n",
    "                           index = False)\n",
    "\n",
    "pd.read_excel('linear_model_performance.xlsx')"
   ]
  }
 ],
 "metadata": {
  "kernelspec": {
   "display_name": "Python 3",
   "language": "python",
   "name": "python3"
  },
  "language_info": {
   "codemirror_mode": {
    "name": "ipython",
    "version": 3
   },
   "file_extension": ".py",
   "mimetype": "text/x-python",
   "name": "python",
   "nbconvert_exporter": "python",
   "pygments_lexer": "ipython3",
   "version": "3.8.3"
  },
  "toc": {
   "base_numbering": 1,
   "nav_menu": {},
   "number_sections": true,
   "sideBar": true,
   "skip_h1_title": false,
   "title_cell": "Table of Contents",
   "title_sidebar": "Contents",
   "toc_cell": false,
   "toc_position": {},
   "toc_section_display": true,
   "toc_window_display": false
  },
  "varInspector": {
   "cols": {
    "lenName": 16,
    "lenType": 16,
    "lenVar": 40
   },
   "kernels_config": {
    "python": {
     "delete_cmd_postfix": "",
     "delete_cmd_prefix": "del ",
     "library": "var_list.py",
     "varRefreshCmd": "print(var_dic_list())"
    },
    "r": {
     "delete_cmd_postfix": ") ",
     "delete_cmd_prefix": "rm(",
     "library": "var_list.r",
     "varRefreshCmd": "cat(var_dic_list()) "
    }
   },
   "types_to_exclude": [
    "module",
    "function",
    "builtin_function_or_method",
    "instance",
    "_Feature"
   ],
   "window_display": false
  }
 },
 "nbformat": 4,
 "nbformat_minor": 4
}
